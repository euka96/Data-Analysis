{
 "metadata": {
  "language_info": {
   "codemirror_mode": {
    "name": "ipython",
    "version": 3
   },
   "file_extension": ".py",
   "mimetype": "text/x-python",
   "name": "python",
   "nbconvert_exporter": "python",
   "pygments_lexer": "ipython3",
   "version": "3.8.8"
  },
  "orig_nbformat": 2,
  "kernelspec": {
   "name": "python388jvsc74a57bd094be3c0045a496f1db0f6c0933821dfb1f75d678fefa7c30ef8ba447fd697bda",
   "display_name": "Python 3.8.8 64-bit ('base': conda)"
  },
  "metadata": {
   "interpreter": {
    "hash": "94be3c0045a496f1db0f6c0933821dfb1f75d678fefa7c30ef8ba447fd697bda"
   }
  }
 },
 "nbformat": 4,
 "nbformat_minor": 2,
 "cells": [
  {
   "source": [
    "# 카카오 로컬 API\n",
    "- 도로명주소로부트 위도, 경도 정보 구하기"
   ],
   "cell_type": "markdown",
   "metadata": {}
  },
  {
   "cell_type": "code",
   "execution_count": 2,
   "metadata": {},
   "outputs": [],
   "source": [
    "import requests\n",
    "from urllib.parse import quote\n",
    "import pandas as pd\n",
    "import numpy as np"
   ]
  },
  {
   "cell_type": "code",
   "execution_count": 3,
   "metadata": {},
   "outputs": [],
   "source": [
    "with open('kakao api.txt', mode = 'r') as key_file :\n",
    "    kakao_key = key_file.read()"
   ]
  },
  {
   "cell_type": "code",
   "execution_count": 4,
   "metadata": {},
   "outputs": [],
   "source": [
    "addr = '서울특별시 중구 청파로 463 (중림동)'\n",
    "local_url = 'https://dapi.kakao.com/v2/local/search/address.json'\n",
    "url = f'{local_url}?query={quote(addr)}'"
   ]
  },
  {
   "cell_type": "code",
   "execution_count": 5,
   "metadata": {},
   "outputs": [
    {
     "output_type": "execute_result",
     "data": {
      "text/plain": [
       "{'documents': [{'address': {'address_name': '서울 중구 중림동 441',\n",
       "    'b_code': '1114017100',\n",
       "    'h_code': '1114068000',\n",
       "    'main_address_no': '441',\n",
       "    'mountain_yn': 'N',\n",
       "    'region_1depth_name': '서울',\n",
       "    'region_2depth_name': '중구',\n",
       "    'region_3depth_h_name': '중림동',\n",
       "    'region_3depth_name': '중림동',\n",
       "    'sub_address_no': '',\n",
       "    'x': '126.967109652664',\n",
       "    'y': '37.5598688323642'},\n",
       "   'address_name': '서울 중구 청파로 463',\n",
       "   'address_type': 'ROAD_ADDR',\n",
       "   'road_address': {'address_name': '서울 중구 청파로 463',\n",
       "    'building_name': '한국경제신문사',\n",
       "    'main_building_no': '463',\n",
       "    'region_1depth_name': '서울',\n",
       "    'region_2depth_name': '중구',\n",
       "    'region_3depth_name': '중림동',\n",
       "    'road_name': '청파로',\n",
       "    'sub_building_no': '',\n",
       "    'underground_yn': 'N',\n",
       "    'x': '126.967109652664',\n",
       "    'y': '37.5598688323642',\n",
       "    'zone_no': '04505'},\n",
       "   'x': '126.967109652664',\n",
       "   'y': '37.5598688323642'}],\n",
       " 'meta': {'is_end': True, 'pageable_count': 1, 'total_count': 1}}"
      ]
     },
     "metadata": {},
     "execution_count": 5
    }
   ],
   "source": [
    "result = requests.get(url, headers = {\"Authorization\": f'KakaoAK {kakao_key}'}).json()\n",
    "result"
   ]
  },
  {
   "cell_type": "code",
   "execution_count": 7,
   "metadata": {},
   "outputs": [
    {
     "output_type": "execute_result",
     "data": {
      "text/plain": [
       "('126.967109652664', '37.5598688323642')"
      ]
     },
     "metadata": {},
     "execution_count": 7
    }
   ],
   "source": [
    "result['documents'][0]['address']['x'], result['documents'][0]['address']['y']"
   ]
  },
  {
   "cell_type": "code",
   "execution_count": 8,
   "metadata": {},
   "outputs": [
    {
     "output_type": "stream",
     "name": "stdout",
     "text": [
      "126.967109652664\n37.5598688323642\n"
     ]
    }
   ],
   "source": [
    "for key, value in result['documents'][0]['address'].items() :\n",
    "    if key == 'x' or key == 'y' :\n",
    "        print(value)"
   ]
  },
  {
   "source": [
    "- addr.csv에 위도, 경도 추가 "
   ],
   "cell_type": "markdown",
   "metadata": {}
  },
  {
   "cell_type": "code",
   "execution_count": 9,
   "metadata": {},
   "outputs": [
    {
     "output_type": "execute_result",
     "data": {
      "text/plain": [
       "      name                      address\n",
       "0  한국경제신문사       서울특별시 중구 청파로 463 (중림동)\n",
       "1   서울특별시청    서울특별시 중구 세종대로 110 (태평로1가)\n",
       "2      중구청       서울특별시 중구 창경궁로 17 (예관동)\n",
       "3     종로구청      서울특별시 종로구 종로1길 36 (수송동)\n",
       "4     효창공원  서울특별시 용산구 효창원로 177-18 (효창동)"
      ],
      "text/html": "<div>\n<style scoped>\n    .dataframe tbody tr th:only-of-type {\n        vertical-align: middle;\n    }\n\n    .dataframe tbody tr th {\n        vertical-align: top;\n    }\n\n    .dataframe thead th {\n        text-align: right;\n    }\n</style>\n<table border=\"1\" class=\"dataframe\">\n  <thead>\n    <tr style=\"text-align: right;\">\n      <th></th>\n      <th>name</th>\n      <th>address</th>\n    </tr>\n  </thead>\n  <tbody>\n    <tr>\n      <th>0</th>\n      <td>한국경제신문사</td>\n      <td>서울특별시 중구 청파로 463 (중림동)</td>\n    </tr>\n    <tr>\n      <th>1</th>\n      <td>서울특별시청</td>\n      <td>서울특별시 중구 세종대로 110 (태평로1가)</td>\n    </tr>\n    <tr>\n      <th>2</th>\n      <td>중구청</td>\n      <td>서울특별시 중구 창경궁로 17 (예관동)</td>\n    </tr>\n    <tr>\n      <th>3</th>\n      <td>종로구청</td>\n      <td>서울특별시 종로구 종로1길 36 (수송동)</td>\n    </tr>\n    <tr>\n      <th>4</th>\n      <td>효창공원</td>\n      <td>서울특별시 용산구 효창원로 177-18 (효창동)</td>\n    </tr>\n  </tbody>\n</table>\n</div>"
     },
     "metadata": {},
     "execution_count": 9
    }
   ],
   "source": [
    "df = pd.read_csv('addr.csv')\n",
    "df"
   ]
  },
  {
   "source": [
    "lng = []\n",
    "lat = []\n",
    "\n",
    "for i in df.index :\n",
    "    url = f'{local_url}?query={quote(df[\"address\"][i])}'\n",
    "    result = requests.get(url, headers = {\"Authorization\": f'KakaoAK {kakao_key}'}).json()\n",
    "    for key, value in result['documents'][0]['address'].items() :\n",
    "        if key == 'x' : \n",
    "            lng.append(value)\n",
    "        if key == 'y' : \n",
    "            lat.append(value)\n",
    "\n",
    "df['latitude'] = lat\n",
    "df['longitude'] = lng\n",
    "df.to_csv('addr2.csv', index = False, sep = ',')"
   ],
   "cell_type": "code",
   "metadata": {},
   "execution_count": 14,
   "outputs": []
  }
 ]
}
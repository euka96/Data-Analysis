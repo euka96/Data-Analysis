{
 "metadata": {
  "language_info": {
   "codemirror_mode": {
    "name": "ipython",
    "version": 3
   },
   "file_extension": ".py",
   "mimetype": "text/x-python",
   "name": "python",
   "nbconvert_exporter": "python",
   "pygments_lexer": "ipython3",
   "version": "3.8.8"
  },
  "orig_nbformat": 2,
  "kernelspec": {
   "name": "python388jvsc74a57bd094be3c0045a496f1db0f6c0933821dfb1f75d678fefa7c30ef8ba447fd697bda",
   "display_name": "Python 3.8.8 64-bit ('base': conda)"
  },
  "metadata": {
   "interpreter": {
    "hash": "94be3c0045a496f1db0f6c0933821dfb1f75d678fefa7c30ef8ba447fd697bda"
   }
  }
 },
 "nbformat": 4,
 "nbformat_minor": 2,
 "cells": [
  {
   "source": [
    "## user table에 password 넣기"
   ],
   "cell_type": "markdown",
   "metadata": {}
  },
  {
   "cell_type": "code",
   "execution_count": 57,
   "metadata": {},
   "outputs": [],
   "source": [
    "import json\n",
    "import pymysql\n",
    "\n",
    "with open ('mysql.json', 'r') as file :\n",
    "    config_str = file.read()\n",
    "    \n",
    "config = json.loads(config_str)\n",
    "\n",
    "conn = pymysql.connect(\n",
    "    host = config['host'],\n",
    "    user = config['user'],\n",
    "    password = config['password'],\n",
    "    database = config['database'],\n",
    "    port = config['port']\n",
    ")"
   ]
  },
  {
   "source": [
    "- ENCRYPT PASSWORD"
   ],
   "cell_type": "markdown",
   "metadata": {}
  },
  {
   "cell_type": "code",
   "execution_count": 58,
   "metadata": {},
   "outputs": [],
   "source": [
    "import hashlib\n",
    "import base64"
   ]
  },
  {
   "cell_type": "code",
   "execution_count": 4,
   "metadata": {},
   "outputs": [
    {
     "output_type": "execute_result",
     "data": {
      "text/plain": [
       "b'\\x03\\xacgB\\x16\\xf3\\xe1\\\\v\\x1e\\xe1\\xa5\\xe2U\\xf0g\\x956#\\xc8\\xb3\\x88\\xb4E\\x9e\\x13\\xf9x\\xd7\\xc8F\\xf4'"
      ]
     },
     "metadata": {},
     "execution_count": 4
    }
   ],
   "source": [
    "pwd = '1234'\n",
    "pwd_sha256 = hashlib.sha256(pwd.encode())\n",
    "pwd_sha256.digest()"
   ]
  },
  {
   "source": [
    "- ENCODING with Base64"
   ],
   "cell_type": "markdown",
   "metadata": {}
  },
  {
   "cell_type": "code",
   "execution_count": 6,
   "metadata": {},
   "outputs": [
    {
     "output_type": "execute_result",
     "data": {
      "text/plain": [
       "b'A6xnQhbz4Vx2HuGl4lXwZ5U2I8iziLRFnhP5eNfIRvQ='"
      ]
     },
     "metadata": {},
     "execution_count": 6
    }
   ],
   "source": [
    "base64.b64encode(pwd_sha256.digest())"
   ]
  },
  {
   "cell_type": "code",
   "execution_count": 7,
   "metadata": {},
   "outputs": [
    {
     "output_type": "execute_result",
     "data": {
      "text/plain": [
       "'A6xnQhbz4Vx2HuGl4lXwZ5U2I8iziLRFnhP5eNfIRvQ='"
      ]
     },
     "metadata": {},
     "execution_count": 7
    }
   ],
   "source": [
    "hashed_pwd = base64.b64encode(pwd_sha256.digest()).decode('utf-8')\n",
    "hashed_pwd"
   ]
  },
  {
   "cell_type": "code",
   "execution_count": 8,
   "metadata": {},
   "outputs": [
    {
     "output_type": "execute_result",
     "data": {
      "text/plain": [
       "44"
      ]
     },
     "metadata": {},
     "execution_count": 8
    }
   ],
   "source": [
    "len(hashed_pwd)"
   ]
  },
  {
   "cell_type": "code",
   "execution_count": 15,
   "metadata": {},
   "outputs": [],
   "source": [
    "# password를 생성하는 함수\n",
    "def gen_pwd(pwd) :\n",
    "    pwd_sha256 = hashlib.sha256(pwd.encode())\n",
    "    hashed_pwd = base64.b64encode(pwd_sha256.digest()).decode('utf-8')\n",
    "    return hashed_pwd"
   ]
  },
  {
   "cell_type": "code",
   "execution_count": 21,
   "metadata": {},
   "outputs": [
    {
     "output_type": "execute_result",
     "data": {
      "text/plain": [
       "(('admin',),\n",
       " ('djy',),\n",
       " ('eskim',),\n",
       " ('gdhong',),\n",
       " ('jbpark',),\n",
       " ('vincenzo',),\n",
       " ('wjlee',))"
      ]
     },
     "metadata": {},
     "execution_count": 21
    }
   ],
   "source": [
    "# users table을 읽어서 pwd열에 password 채우기\n",
    "sql = \"\"\"\n",
    "    select uid from users;\n",
    "\"\"\"\n",
    "cur = conn.cursor()\n",
    "cur.execute(sql)\n",
    "results = cur.fetchall()\n",
    "results"
   ]
  },
  {
   "cell_type": "code",
   "execution_count": 22,
   "metadata": {},
   "outputs": [],
   "source": [
    "sql = \"\"\"\n",
    "    update users set pwd = %s where uid = %s;\n",
    "\"\"\"\n",
    "cur = conn.cursor()\n",
    "for i in results :\n",
    "    uid = i[0]\n",
    "    pwd = gen_pwd(uid + '12')\n",
    "    cur.execute(sql, (pwd, uid))\n",
    "conn.commit()"
   ]
  },
  {
   "source": [
    "## LOGIN"
   ],
   "cell_type": "markdown",
   "metadata": {}
  },
  {
   "source": [
    "CASE 1) UID PASS and PWD PASS"
   ],
   "cell_type": "markdown",
   "metadata": {}
  },
  {
   "cell_type": "code",
   "execution_count": 24,
   "metadata": {},
   "outputs": [
    {
     "output_type": "execute_result",
     "data": {
      "text/plain": [
       "'EUZjqxlO3LP2HUCYg85K5sPC+YVBlAlaU4UBHRW+y+8='"
      ]
     },
     "metadata": {},
     "execution_count": 24
    }
   ],
   "source": [
    "uid, pwd = 'admin', 'admin12'\n",
    "\n",
    "sql = \"select uid, pwd from users where uid = %s;\"\n",
    "cur = conn.cursor()\n",
    "cur.execute(sql, (uid,))\n",
    "result = cur.fetchone()\n",
    "db_pwd = result[1]\n",
    "db_pwd"
   ]
  },
  {
   "cell_type": "code",
   "execution_count": 25,
   "metadata": {},
   "outputs": [
    {
     "output_type": "execute_result",
     "data": {
      "text/plain": [
       "'EUZjqxlO3LP2HUCYg85K5sPC+YVBlAlaU4UBHRW+y+8='"
      ]
     },
     "metadata": {},
     "execution_count": 25
    }
   ],
   "source": [
    "hashed_pwd = gen_pwd(pwd)\n",
    "hashed_pwd"
   ]
  },
  {
   "source": [
    "CASE 2) UID PASS and PWD FAIL"
   ],
   "cell_type": "markdown",
   "metadata": {}
  },
  {
   "cell_type": "code",
   "execution_count": 30,
   "metadata": {},
   "outputs": [
    {
     "output_type": "stream",
     "name": "stdout",
     "text": [
      "password is wrong. try again\n"
     ]
    }
   ],
   "source": [
    "pwd = '1234'\n",
    "hashed_pwd = gen_pwd(pwd)\n",
    "if hashed_pwd != db_pwd :\n",
    "    print('password is wrong. try again')"
   ]
  },
  {
   "source": [
    "CASE 3) UID FAIL and PWD FAIL"
   ],
   "cell_type": "markdown",
   "metadata": {}
  },
  {
   "cell_type": "code",
   "execution_count": 41,
   "metadata": {},
   "outputs": [
    {
     "output_type": "execute_result",
     "data": {
      "text/plain": [
       "0"
      ]
     },
     "metadata": {},
     "execution_count": 41
    }
   ],
   "source": [
    "uid = 'fool'\n",
    "sql = \"select uid, pwd from users where uid = %s;\"\n",
    "cur = conn.cursor()\n",
    "cur.execute(sql, (uid,))"
   ]
  },
  {
   "cell_type": "code",
   "execution_count": 42,
   "metadata": {},
   "outputs": [],
   "source": [
    "result = cur.fetchone()\n",
    "result"
   ]
  },
  {
   "source": [
    "- MAKE LOGIN PROGRAMM"
   ],
   "cell_type": "markdown",
   "metadata": {}
  },
  {
   "cell_type": "code",
   "execution_count": 62,
   "metadata": {},
   "outputs": [],
   "source": [
    "uid, pwd = 'admin', 'admin12'"
   ]
  },
  {
   "cell_type": "code",
   "execution_count": 63,
   "metadata": {},
   "outputs": [
    {
     "output_type": "stream",
     "name": "stdout",
     "text": [
      "Welcome admin!\n"
     ]
    }
   ],
   "source": [
    "sql = \"select uid, pwd from users where uid = %s and is_deleted = 0;\"\n",
    "cur = conn.cursor()\n",
    "cur.execute(sql, (uid,))\n",
    "result = cur.fetchone()\n",
    "try :\n",
    "    db_pwd = result[1]\n",
    "    hashed_pwd = gen_pwd(pwd)\n",
    "    if db_pwd == hashed_pwd :\n",
    "        print(f'Welcome {uid}!')\n",
    "    else :\n",
    "        print('Wrong password. Try agian')\n",
    "except :\n",
    "    print('Wrong uid. Try again')"
   ]
  },
  {
   "cell_type": "code",
   "execution_count": 64,
   "metadata": {},
   "outputs": [],
   "source": [
    "cur.close()\n",
    "conn.close()"
   ]
  }
 ]
}
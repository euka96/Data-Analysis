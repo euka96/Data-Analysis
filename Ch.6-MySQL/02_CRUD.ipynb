{
 "metadata": {
  "language_info": {
   "codemirror_mode": {
    "name": "ipython",
    "version": 3
   },
   "file_extension": ".py",
   "mimetype": "text/x-python",
   "name": "python",
   "nbconvert_exporter": "python",
   "pygments_lexer": "ipython3",
   "version": "3.8.8"
  },
  "orig_nbformat": 2,
  "kernelspec": {
   "name": "python388jvsc74a57bd094be3c0045a496f1db0f6c0933821dfb1f75d678fefa7c30ef8ba447fd697bda",
   "display_name": "Python 3.8.8 64-bit ('base': conda)"
  },
  "metadata": {
   "interpreter": {
    "hash": "94be3c0045a496f1db0f6c0933821dfb1f75d678fefa7c30ef8ba447fd697bda"
   }
  }
 },
 "nbformat": 4,
 "nbformat_minor": 2,
 "cells": [
  {
   "source": [
    "## Python MySQL\n",
    "- CRUD Operation"
   ],
   "cell_type": "markdown",
   "metadata": {}
  },
  {
   "cell_type": "code",
   "execution_count": 2,
   "metadata": {},
   "outputs": [],
   "source": [
    "import json\n",
    "import pymysql\n",
    "\n",
    "with open ('mysql.json', 'r') as file :\n",
    "    config_str = file.read()\n",
    "    \n",
    "config = json.loads(config_str)\n",
    "\n",
    "conn = pymysql.connect(\n",
    "    host = config['host'],\n",
    "    user = config['user'],\n",
    "    password = config['password'],\n",
    "    database = config['database'],\n",
    "    port = config['port']\n",
    ")"
   ]
  },
  {
   "source": [
    "- CREATE TABLE"
   ],
   "cell_type": "markdown",
   "metadata": {}
  },
  {
   "cell_type": "code",
   "execution_count": 20,
   "metadata": {},
   "outputs": [],
   "source": [
    "sql_user = \"\"\"\n",
    "    create table if not exists users (\n",
    "        uid varchar(20) not null primary key,\n",
    "        pwd char(44),\n",
    "        uname varchar(20) not null,\n",
    "        reg_date datetime default current_timestamp,\n",
    "        is_deleted int default 0\n",
    "    );\n",
    "\"\"\""
   ]
  },
  {
   "cell_type": "code",
   "execution_count": 21,
   "metadata": {},
   "outputs": [
    {
     "output_type": "execute_result",
     "data": {
      "text/plain": [
       "0"
      ]
     },
     "metadata": {},
     "execution_count": 21
    }
   ],
   "source": [
    "cur = conn.cursor()\n",
    "cur.execute(sql_user)"
   ]
  },
  {
   "source": [
    "- MODIFY TABLE"
   ],
   "cell_type": "markdown",
   "metadata": {}
  },
  {
   "cell_type": "code",
   "execution_count": null,
   "metadata": {},
   "outputs": [],
   "source": [
    "cur.execute('alter table users add column email varchar(40)')"
   ]
  },
  {
   "source": [
    "- WRITE DATA"
   ],
   "cell_type": "markdown",
   "metadata": {}
  },
  {
   "cell_type": "code",
   "execution_count": 11,
   "metadata": {},
   "outputs": [
    {
     "output_type": "execute_result",
     "data": {
      "text/plain": [
       "1"
      ]
     },
     "metadata": {},
     "execution_count": 11
    }
   ],
   "source": [
    "cur = conn.cursor()\n",
    "cur.execute(\"insert into users(uid, uname) values('admin', '관리자');\")"
   ]
  },
  {
   "cell_type": "code",
   "execution_count": 12,
   "metadata": {},
   "outputs": [
    {
     "output_type": "stream",
     "name": "stdout",
     "text": [
      "('admin', None, '관리자', datetime.datetime(2021, 6, 9, 10, 49, 10), 0, None)\n"
     ]
    }
   ],
   "source": [
    "cur.execute('select * from users;')\n",
    "rows = cur.fetchall()\n",
    "for row in rows :\n",
    "    print(row)"
   ]
  },
  {
   "cell_type": "code",
   "execution_count": 14,
   "metadata": {},
   "outputs": [],
   "source": [
    "sql_insert_multi = \"\"\"\n",
    "    insert into users(uid, uname) values\n",
    "        ('eskim', '김은숙'), ('wjlee', '이우정');\n",
    "\"\"\""
   ]
  },
  {
   "cell_type": "code",
   "execution_count": null,
   "metadata": {},
   "outputs": [],
   "source": [
    "cur.execute(sql_insert_multi)\n",
    "conn.commit()   # data flush(실행)"
   ]
  },
  {
   "cell_type": "code",
   "execution_count": 20,
   "metadata": {},
   "outputs": [
    {
     "output_type": "stream",
     "name": "stdout",
     "text": [
      "('admin', '관리자', '21-06-09 10:49', 0, None)\n('eskim', '김은숙', '21-06-09 10:56', 0, None)\n('wjlee', '이우정', '21-06-09 10:56', 0, None)\n"
     ]
    }
   ],
   "source": [
    "sql_select = \"\"\"\n",
    "    select uid, uname, date_format(reg_date, '%y-%m-%d %h:%i') as reg_date, is_deleted, email from users;\n",
    "\"\"\"\n",
    "cur.execute(sql_select)\n",
    "rows = cur.fetchall()\n",
    "for row in rows :\n",
    "    print(row)"
   ]
  },
  {
   "cell_type": "code",
   "execution_count": 22,
   "metadata": {},
   "outputs": [],
   "source": [
    "# 파라메터 이용, placeholder\n",
    "uid = 'djy'\n",
    "uname = '대조영'\n",
    "cur = conn.cursor()\n",
    "sql = \"insert into users(uid, uname) values(%s, %s);\"\n",
    "cur.execute(sql, (uid, uname))\n",
    "conn.commit()"
   ]
  },
  {
   "cell_type": "code",
   "execution_count": 23,
   "metadata": {},
   "outputs": [],
   "source": [
    "uid = 'gdhong'\n",
    "cur = conn.cursor()\n",
    "sql = \"insert into users(uid, uname) values(%s, '홍길동');\"\n",
    "cur.execute(sql, (uid,))\n",
    "conn.commit()"
   ]
  },
  {
   "cell_type": "code",
   "execution_count": 24,
   "metadata": {},
   "outputs": [],
   "source": [
    "users = (('jbpark', '박재범'),('vincenzo', '빈센조'))\n",
    "cur = conn.cursor()\n",
    "sql = \"insert into users(uid, uname) values(%s, %s);\"\n",
    "cur.executemany(sql, users)\n",
    "conn.commit()"
   ]
  },
  {
   "cell_type": "code",
   "execution_count": null,
   "metadata": {},
   "outputs": [],
   "source": [
    "users = (('jbpark', '박재범'),('vincenzo', '빈센조'))\n",
    "cur = conn.cursor()\n",
    "sql = \"insert into users(uid, uname) values(%s, %s);\"\n",
    "for user in users :\n",
    "    cur.execute(sql, user)\n",
    "conn.commit()"
   ]
  },
  {
   "source": [
    "- DELETE DATA"
   ],
   "cell_type": "markdown",
   "metadata": {}
  },
  {
   "cell_type": "code",
   "execution_count": 25,
   "metadata": {},
   "outputs": [],
   "source": [
    "cur = conn.cursor()\n",
    "sql = \"delete from users where uid != 'admin';\"\n",
    "cur.execute(sql)\n",
    "conn.commit()"
   ]
  },
  {
   "cell_type": "code",
   "execution_count": 14,
   "metadata": {},
   "outputs": [
    {
     "output_type": "execute_result",
     "data": {
      "text/plain": [
       "        uid uname\n",
       "0       djy   대조영\n",
       "1     eskim   김은숙\n",
       "2    gdhong   홍길동\n",
       "3    jbpark   박재범\n",
       "4  vincenzo   빈센조\n",
       "5     wjlee   이우정"
      ],
      "text/html": "<div>\n<style scoped>\n    .dataframe tbody tr th:only-of-type {\n        vertical-align: middle;\n    }\n\n    .dataframe tbody tr th {\n        vertical-align: top;\n    }\n\n    .dataframe thead th {\n        text-align: right;\n    }\n</style>\n<table border=\"1\" class=\"dataframe\">\n  <thead>\n    <tr style=\"text-align: right;\">\n      <th></th>\n      <th>uid</th>\n      <th>uname</th>\n    </tr>\n  </thead>\n  <tbody>\n    <tr>\n      <th>0</th>\n      <td>djy</td>\n      <td>대조영</td>\n    </tr>\n    <tr>\n      <th>1</th>\n      <td>eskim</td>\n      <td>김은숙</td>\n    </tr>\n    <tr>\n      <th>2</th>\n      <td>gdhong</td>\n      <td>홍길동</td>\n    </tr>\n    <tr>\n      <th>3</th>\n      <td>jbpark</td>\n      <td>박재범</td>\n    </tr>\n    <tr>\n      <th>4</th>\n      <td>vincenzo</td>\n      <td>빈센조</td>\n    </tr>\n    <tr>\n      <th>5</th>\n      <td>wjlee</td>\n      <td>이우정</td>\n    </tr>\n  </tbody>\n</table>\n</div>"
     },
     "metadata": {},
     "execution_count": 14
    }
   ],
   "source": [
    "import pandas as pd\n",
    "uids = ['djy', 'eskim', 'gdhong', 'jbpark', 'vincenzo', 'wjlee']\n",
    "unames = ['대조영', '김은숙', '홍길동', '박재범', '빈센조', '이우정']\n",
    "df = pd.DataFrame({'uid' : uids, 'uname' : unames})\n",
    "df"
   ]
  },
  {
   "source": [
    "- MODIFY DATA"
   ],
   "cell_type": "markdown",
   "metadata": {}
  },
  {
   "cell_type": "code",
   "execution_count": null,
   "metadata": {},
   "outputs": [],
   "source": [
    "cur = conn.cursor()\n",
    "sql = \"insert into users(uid, uname) values(%s, %s);\"\n",
    "for i in df.index :\n",
    "    cur.execute(sql, (df.uid[i], df.uname[i]))\n",
    "conn.commit()"
   ]
  },
  {
   "cell_type": "code",
   "execution_count": 42,
   "metadata": {},
   "outputs": [],
   "source": [
    "email = 'admin@korea.com'\n",
    "uid = 'admin'\n",
    "cur = conn.cursor()\n",
    "sql = \"update users set email = %s where uid = %s;\"\n",
    "cur.execute(sql, (email, uid))\n",
    "conn.commit()"
   ]
  },
  {
   "cell_type": "code",
   "execution_count": 23,
   "metadata": {},
   "outputs": [],
   "source": [
    "cur = conn.cursor()\n",
    "sql = \"update users set email = %s where uid = %s;\"\n",
    "for i in df.index :\n",
    "    uid = df.uid[i]\n",
    "    email = f'{uid}@korea.com'  \n",
    "    cur.execute(sql, (email, uid))\n",
    "conn.commit()"
   ]
  },
  {
   "cell_type": "code",
   "execution_count": 44,
   "metadata": {},
   "outputs": [],
   "source": [
    "sql = \"\"\"\n",
    "    select uid, uname, email, date_format(reg_date, '%y-%m-%d %h:%i') as reg_date\n",
    "    from users where is_deleted = 0;\n",
    "\"\"\"\n",
    "cur = conn.cursor()\n",
    "cur.execute(sql)\n",
    "results = cur.fetchall()"
   ]
  },
  {
   "cell_type": "code",
   "execution_count": 46,
   "metadata": {},
   "outputs": [
    {
     "output_type": "execute_result",
     "data": {
      "text/plain": [
       "        uid uname               email        reg_date\n",
       "0     admin   관리자     admin@korea.com  21-06-09 10:49\n",
       "1       djy   대조영       djy@korea.com  21-06-09 11:33\n",
       "2     eskim   김은숙     eskim@korea.com  21-06-09 11:33\n",
       "3    gdhong   홍길동    gdhong@korea.com  21-06-09 11:33\n",
       "4    jbpark   박재범    jbpark@korea.com  21-06-09 11:33\n",
       "5  vincenzo   빈센조  vincenzo@korea.com  21-06-09 11:33\n",
       "6     wjlee   이우정     wjlee@korea.com  21-06-09 11:33"
      ],
      "text/html": "<div>\n<style scoped>\n    .dataframe tbody tr th:only-of-type {\n        vertical-align: middle;\n    }\n\n    .dataframe tbody tr th {\n        vertical-align: top;\n    }\n\n    .dataframe thead th {\n        text-align: right;\n    }\n</style>\n<table border=\"1\" class=\"dataframe\">\n  <thead>\n    <tr style=\"text-align: right;\">\n      <th></th>\n      <th>uid</th>\n      <th>uname</th>\n      <th>email</th>\n      <th>reg_date</th>\n    </tr>\n  </thead>\n  <tbody>\n    <tr>\n      <th>0</th>\n      <td>admin</td>\n      <td>관리자</td>\n      <td>admin@korea.com</td>\n      <td>21-06-09 10:49</td>\n    </tr>\n    <tr>\n      <th>1</th>\n      <td>djy</td>\n      <td>대조영</td>\n      <td>djy@korea.com</td>\n      <td>21-06-09 11:33</td>\n    </tr>\n    <tr>\n      <th>2</th>\n      <td>eskim</td>\n      <td>김은숙</td>\n      <td>eskim@korea.com</td>\n      <td>21-06-09 11:33</td>\n    </tr>\n    <tr>\n      <th>3</th>\n      <td>gdhong</td>\n      <td>홍길동</td>\n      <td>gdhong@korea.com</td>\n      <td>21-06-09 11:33</td>\n    </tr>\n    <tr>\n      <th>4</th>\n      <td>jbpark</td>\n      <td>박재범</td>\n      <td>jbpark@korea.com</td>\n      <td>21-06-09 11:33</td>\n    </tr>\n    <tr>\n      <th>5</th>\n      <td>vincenzo</td>\n      <td>빈센조</td>\n      <td>vincenzo@korea.com</td>\n      <td>21-06-09 11:33</td>\n    </tr>\n    <tr>\n      <th>6</th>\n      <td>wjlee</td>\n      <td>이우정</td>\n      <td>wjlee@korea.com</td>\n      <td>21-06-09 11:33</td>\n    </tr>\n  </tbody>\n</table>\n</div>"
     },
     "metadata": {},
     "execution_count": 46
    }
   ],
   "source": [
    "uid, uname, email, reg_date = [], [], [], []\n",
    "for i in results :\n",
    "    uid.append(i[0])\n",
    "    uname.append(i[1])\n",
    "    email.append(i[2])\n",
    "    reg_date.append(i[3])\n",
    "df2 = pd.DataFrame({\n",
    "    'uid' : uid,\n",
    "    'uname' : uname,\n",
    "    'email' : email,\n",
    "    'reg_date' : reg_date\n",
    "})\n",
    "df2"
   ]
  },
  {
   "source": [
    "- 데이터 검색"
   ],
   "cell_type": "markdown",
   "metadata": {}
  },
  {
   "cell_type": "code",
   "execution_count": 47,
   "metadata": {},
   "outputs": [
    {
     "output_type": "execute_result",
     "data": {
      "text/plain": [
       "('admin', '관리자', 'admin@korea.com', '21-06-09 10:49')"
      ]
     },
     "metadata": {},
     "execution_count": 47
    }
   ],
   "source": [
    "cur = conn.cursor()\n",
    "cur.execute(sql)\n",
    "result = cur.fetchone()\n",
    "result"
   ]
  },
  {
   "cell_type": "code",
   "execution_count": 49,
   "metadata": {},
   "outputs": [
    {
     "output_type": "execute_result",
     "data": {
      "text/plain": [
       "(('gdhong', '홍길동', 'gdhong@korea.com', '21-06-09 11:33'),\n",
       " ('jbpark', '박재범', 'jbpark@korea.com', '21-06-09 11:33'))"
      ]
     },
     "metadata": {},
     "execution_count": 49
    }
   ],
   "source": [
    "result = cur.fetchmany(2)\n",
    "result"
   ]
  },
  {
   "cell_type": "code",
   "execution_count": 51,
   "metadata": {},
   "outputs": [
    {
     "output_type": "execute_result",
     "data": {
      "text/plain": [
       "(('admin', '관리자', 'admin@korea.com', '21-06-09 10:49'),\n",
       " ('djy', '대조영', 'djy@korea.com', '21-06-09 11:33'),\n",
       " ('eskim', '김은숙', 'eskim@korea.com', '21-06-09 11:33'),\n",
       " ('gdhong', '홍길동', 'gdhong@korea.com', '21-06-09 11:33'),\n",
       " ('jbpark', '박재범', 'jbpark@korea.com', '21-06-09 11:33'),\n",
       " ('vincenzo', '빈센조', 'vincenzo@korea.com', '21-06-09 11:33'),\n",
       " ('wjlee', '이우정', 'wjlee@korea.com', '21-06-09 11:33'))"
      ]
     },
     "metadata": {},
     "execution_count": 51
    }
   ],
   "source": [
    "cur.execute(sql)\n",
    "result = cur.fetchall()\n",
    "result"
   ]
  },
  {
   "cell_type": "code",
   "execution_count": 5,
   "metadata": {},
   "outputs": [],
   "source": [
    "keyword = '김'\n",
    "sql = \"\"\"\n",
    "    select uid from users where is_deleted = 0 and uname like %s;\n",
    "\"\"\""
   ]
  },
  {
   "cell_type": "code",
   "execution_count": 29,
   "metadata": {},
   "outputs": [
    {
     "output_type": "execute_result",
     "data": {
      "text/plain": [
       "'eskim'"
      ]
     },
     "metadata": {},
     "execution_count": 29
    }
   ],
   "source": [
    "cur = conn.cursor()\n",
    "cur.execute(sql, keyword + '%')\n",
    "result = cur.fetchone()\n",
    "result[0]"
   ]
  },
  {
   "cell_type": "code",
   "execution_count": 6,
   "metadata": {},
   "outputs": [
    {
     "output_type": "execute_result",
     "data": {
      "text/plain": [
       "'eskim'"
      ]
     },
     "metadata": {},
     "execution_count": 6
    }
   ],
   "source": [
    "cur = conn.cursor()\n",
    "cur.execute(sql, keyword + '%')\n",
    "result = cur.fetchall()\n",
    "result[0][0]"
   ]
  },
  {
   "cell_type": "code",
   "execution_count": 7,
   "metadata": {},
   "outputs": [],
   "source": [
    "cur.close()\n",
    "conn.close()"
   ]
  }
 ]
}
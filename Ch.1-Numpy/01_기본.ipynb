{
 "metadata": {
  "language_info": {
   "codemirror_mode": {
    "name": "ipython",
    "version": 3
   },
   "file_extension": ".py",
   "mimetype": "text/x-python",
   "name": "python",
   "nbconvert_exporter": "python",
   "pygments_lexer": "ipython3",
   "version": "3.8.8"
  },
  "orig_nbformat": 2,
  "kernelspec": {
   "name": "python388jvsc74a57bd094be3c0045a496f1db0f6c0933821dfb1f75d678fefa7c30ef8ba447fd697bda",
   "display_name": "Python 3.8.8 64-bit ('base': conda)"
  },
  "metadata": {
   "interpreter": {
    "hash": "94be3c0045a496f1db0f6c0933821dfb1f75d678fefa7c30ef8ba447fd697bda"
   }
  }
 },
 "nbformat": 4,
 "nbformat_minor": 2,
 "cells": [
  {
   "source": [
    "# Numpy : Numerical Python"
   ],
   "cell_type": "markdown",
   "metadata": {}
  },
  {
   "cell_type": "code",
   "execution_count": 49,
   "metadata": {},
   "outputs": [],
   "source": [
    "# de facto standard\n",
    "import numpy as np"
   ]
  },
  {
   "source": [
    "### 1. ndarray : Numpy Dimensional Array"
   ],
   "cell_type": "markdown",
   "metadata": {}
  },
  {
   "cell_type": "code",
   "execution_count": 6,
   "metadata": {},
   "outputs": [
    {
     "output_type": "stream",
     "name": "stdout",
     "text": [
      "[1. 4. 5. 8.]\n"
     ]
    }
   ],
   "source": [
    "# 1 dimension : vector\n",
    "a = np.array([1, 4, 5, 8], float)\n",
    "print(a)"
   ]
  },
  {
   "cell_type": "code",
   "execution_count": 7,
   "metadata": {},
   "outputs": [
    {
     "output_type": "execute_result",
     "data": {
      "text/plain": [
       "(8.0, dtype('float64'), (4,))"
      ]
     },
     "metadata": {},
     "execution_count": 7
    }
   ],
   "source": [
    "a[3], a.dtype, a.shape"
   ]
  },
  {
   "source": [
    "### 2. Array shape"
   ],
   "cell_type": "markdown",
   "metadata": {}
  },
  {
   "cell_type": "code",
   "execution_count": 8,
   "metadata": {},
   "outputs": [
    {
     "output_type": "execute_result",
     "data": {
      "text/plain": [
       "array([[1., 4.],\n",
       "       [5., 8.]])"
      ]
     },
     "metadata": {},
     "execution_count": 8
    }
   ],
   "source": [
    "# 2 dimension : matrix\n",
    "m = [[1, 4], [5, 8]]\n",
    "b = np.array(m, float)\n",
    "b"
   ]
  },
  {
   "source": [
    "### 3. Tensor"
   ],
   "cell_type": "markdown",
   "metadata": {}
  },
  {
   "cell_type": "code",
   "execution_count": 9,
   "metadata": {},
   "outputs": [
    {
     "output_type": "execute_result",
     "data": {
      "text/plain": [
       "array([[[ 1.,  4.],\n",
       "        [ 5.,  8.]],\n",
       "\n",
       "       [[11., 14.],\n",
       "        [15., 18.]]])"
      ]
     },
     "metadata": {},
     "execution_count": 9
    }
   ],
   "source": [
    "### 3 dimension : tensor\n",
    "t = [[[1, 4], [5, 8]], [[11, 14], [15, 18]]]\n",
    "c = np.array(t, float)\n",
    "c"
   ]
  },
  {
   "cell_type": "code",
   "execution_count": 10,
   "metadata": {},
   "outputs": [
    {
     "output_type": "execute_result",
     "data": {
      "text/plain": [
       "((4,), (2, 2), (2, 2, 2))"
      ]
     },
     "metadata": {},
     "execution_count": 10
    }
   ],
   "source": [
    "a.shape, b.shape, c.shape"
   ]
  },
  {
   "cell_type": "code",
   "execution_count": 11,
   "metadata": {},
   "outputs": [
    {
     "output_type": "execute_result",
     "data": {
      "text/plain": [
       "(1, 2, 3)"
      ]
     },
     "metadata": {},
     "execution_count": 11
    }
   ],
   "source": [
    "a.ndim, b.ndim, c.ndim  # ndim | 몇차원인지 알려줌"
   ]
  },
  {
   "cell_type": "code",
   "execution_count": 12,
   "metadata": {},
   "outputs": [
    {
     "output_type": "execute_result",
     "data": {
      "text/plain": [
       "(4, 4, 8)"
      ]
     },
     "metadata": {},
     "execution_count": 12
    }
   ],
   "source": [
    "a.size, b.size, c.size  # size | 리스트의 사이즈를 나타냄"
   ]
  },
  {
   "cell_type": "code",
   "execution_count": 13,
   "metadata": {},
   "outputs": [
    {
     "output_type": "execute_result",
     "data": {
      "text/plain": [
       "array([[[ 1.,  4.],\n",
       "        [ 5.,  8.]],\n",
       "\n",
       "       [[11., 14.],\n",
       "        [15., 18.]]], dtype=float32)"
      ]
     },
     "metadata": {},
     "execution_count": 13
    }
   ],
   "source": [
    "c = np.array(t, dtype = np.float32)\n",
    "c"
   ]
  },
  {
   "source": [
    "- reshape : size는 동일"
   ],
   "cell_type": "markdown",
   "metadata": {}
  },
  {
   "cell_type": "code",
   "execution_count": 14,
   "metadata": {},
   "outputs": [
    {
     "output_type": "execute_result",
     "data": {
      "text/plain": [
       "(2, 4)"
      ]
     },
     "metadata": {},
     "execution_count": 14
    }
   ],
   "source": [
    "c.reshape(2, 4).shape"
   ]
  },
  {
   "cell_type": "code",
   "execution_count": 15,
   "metadata": {},
   "outputs": [
    {
     "output_type": "execute_result",
     "data": {
      "text/plain": [
       "array([[ 1.,  4.,  5.,  8.],\n",
       "       [11., 14., 15., 18.]], dtype=float32)"
      ]
     },
     "metadata": {},
     "execution_count": 15
    }
   ],
   "source": [
    "c.reshape(2, 4) # 4개씩 2묶음"
   ]
  },
  {
   "cell_type": "code",
   "execution_count": 16,
   "metadata": {},
   "outputs": [
    {
     "output_type": "execute_result",
     "data": {
      "text/plain": [
       "array([ 1.,  4.,  5.,  8., 11., 14., 15., 18.], dtype=float32)"
      ]
     },
     "metadata": {},
     "execution_count": 16
    }
   ],
   "source": [
    "c.reshape(8,)"
   ]
  },
  {
   "cell_type": "code",
   "execution_count": 17,
   "metadata": {},
   "outputs": [
    {
     "output_type": "execute_result",
     "data": {
      "text/plain": [
       "array([[ 1.,  4.,  5.,  8.],\n",
       "       [11., 14., 15., 18.]], dtype=float32)"
      ]
     },
     "metadata": {},
     "execution_count": 17
    }
   ],
   "source": [
    "c.reshape(-1, 4)    # 4개씩 묶음, element가 많으면 몇 묶음이 나올지 모르기 때문에 -1 사용"
   ]
  },
  {
   "source": [
    "- flatten - 1차원으로 변환"
   ],
   "cell_type": "markdown",
   "metadata": {}
  },
  {
   "cell_type": "code",
   "execution_count": 18,
   "metadata": {},
   "outputs": [
    {
     "output_type": "execute_result",
     "data": {
      "text/plain": [
       "array([ 1.,  4.,  5.,  8., 11., 14., 15., 18.], dtype=float32)"
      ]
     },
     "metadata": {},
     "execution_count": 18
    }
   ],
   "source": [
    "c.flatten()"
   ]
  },
  {
   "source": [
    "### 4. Indexing and Slicing"
   ],
   "cell_type": "markdown",
   "metadata": {}
  },
  {
   "cell_type": "code",
   "execution_count": 19,
   "metadata": {},
   "outputs": [
    {
     "output_type": "execute_result",
     "data": {
      "text/plain": [
       "array([0, 1, 2, 3, 4, 5])"
      ]
     },
     "metadata": {},
     "execution_count": 19
    }
   ],
   "source": [
    "a = np.arange(6)    # a = np.array(range(6))\n",
    "a"
   ]
  },
  {
   "cell_type": "code",
   "execution_count": 20,
   "metadata": {},
   "outputs": [
    {
     "output_type": "execute_result",
     "data": {
      "text/plain": [
       "array([[0, 1, 2],\n",
       "       [3, 4, 5]])"
      ]
     },
     "metadata": {},
     "execution_count": 20
    }
   ],
   "source": [
    "a = np.arange(6).reshape(2, 3)\n",
    "a"
   ]
  },
  {
   "cell_type": "code",
   "execution_count": 21,
   "metadata": {},
   "outputs": [
    {
     "output_type": "execute_result",
     "data": {
      "text/plain": [
       "(1, 1)"
      ]
     },
     "metadata": {},
     "execution_count": 21
    }
   ],
   "source": [
    "a[0][1], a[0, 1]"
   ]
  },
  {
   "cell_type": "code",
   "execution_count": 22,
   "metadata": {},
   "outputs": [
    {
     "output_type": "execute_result",
     "data": {
      "text/plain": [
       "array([[0, 1],\n",
       "       [3, 4]])"
      ]
     },
     "metadata": {},
     "execution_count": 22
    }
   ],
   "source": [
    "a[:, :2]"
   ]
  },
  {
   "cell_type": "code",
   "execution_count": 23,
   "metadata": {},
   "outputs": [
    {
     "output_type": "execute_result",
     "data": {
      "text/plain": [
       "array([[ 0,  1,  2,  3],\n",
       "       [ 4,  5,  6,  7],\n",
       "       [ 8,  9, 10, 11],\n",
       "       [12, 13, 14, 15]])"
      ]
     },
     "metadata": {},
     "execution_count": 23
    }
   ],
   "source": [
    "b = np.arange(16).reshape(-1, 4)\n",
    "b"
   ]
  },
  {
   "cell_type": "code",
   "execution_count": 24,
   "metadata": {},
   "outputs": [
    {
     "output_type": "execute_result",
     "data": {
      "text/plain": [
       "array([[ 5,  6],\n",
       "       [ 9, 10]])"
      ]
     },
     "metadata": {},
     "execution_count": 24
    }
   ],
   "source": [
    "b[1:3, 1:3]"
   ]
  },
  {
   "cell_type": "code",
   "execution_count": 25,
   "metadata": {},
   "outputs": [
    {
     "output_type": "execute_result",
     "data": {
      "text/plain": [
       "array([[0, 1],\n",
       "       [4, 5],\n",
       "       [8, 9]])"
      ]
     },
     "metadata": {},
     "execution_count": 25
    }
   ],
   "source": [
    "b[0:3, 0:2]"
   ]
  },
  {
   "cell_type": "code",
   "execution_count": 26,
   "metadata": {},
   "outputs": [
    {
     "output_type": "execute_result",
     "data": {
      "text/plain": [
       "((4, 3), (4,))"
      ]
     },
     "metadata": {},
     "execution_count": 26
    }
   ],
   "source": [
    "# 세번째 열까지 x, 마지막 열은 y\n",
    "X, Y = b[:, :-1], b[:, -1]\n",
    "X.shape, Y.shape"
   ]
  },
  {
   "source": [
    "### 5. Creation"
   ],
   "cell_type": "markdown",
   "metadata": {}
  },
  {
   "source": [
    "- arange"
   ],
   "cell_type": "markdown",
   "metadata": {}
  },
  {
   "cell_type": "code",
   "execution_count": 27,
   "metadata": {},
   "outputs": [
    {
     "output_type": "execute_result",
     "data": {
      "text/plain": [
       "array([1, 2, 3, 4, 5, 6, 7, 8, 9])"
      ]
     },
     "metadata": {},
     "execution_count": 27
    }
   ],
   "source": [
    "np.arange(1, 10)"
   ]
  },
  {
   "cell_type": "code",
   "execution_count": 28,
   "metadata": {},
   "outputs": [
    {
     "output_type": "execute_result",
     "data": {
      "text/plain": [
       "array([0. , 0.1, 0.2, 0.3, 0.4, 0.5, 0.6, 0.7, 0.8, 0.9, 1. ])"
      ]
     },
     "metadata": {},
     "execution_count": 28
    }
   ],
   "source": [
    "np.arange(0, 1.1, 0.1)"
   ]
  },
  {
   "cell_type": "code",
   "execution_count": 29,
   "metadata": {},
   "outputs": [
    {
     "output_type": "execute_result",
     "data": {
      "text/plain": [
       "[0.0,\n",
       " 0.1,\n",
       " 0.2,\n",
       " 0.30000000000000004,\n",
       " 0.4,\n",
       " 0.5,\n",
       " 0.6000000000000001,\n",
       " 0.7000000000000001,\n",
       " 0.8,\n",
       " 0.9,\n",
       " 1.0]"
      ]
     },
     "metadata": {},
     "execution_count": 29
    }
   ],
   "source": [
    "np.arange(0, 1.1, 0.1).tolist() # tolist() | 리스트로 만들기"
   ]
  },
  {
   "cell_type": "code",
   "execution_count": 30,
   "metadata": {},
   "outputs": [
    {
     "output_type": "execute_result",
     "data": {
      "text/plain": [
       "False"
      ]
     },
     "metadata": {},
     "execution_count": 30
    }
   ],
   "source": [
    "np.arange(0, 1.1, 0.1).tolist() == 0.3"
   ]
  },
  {
   "cell_type": "code",
   "execution_count": 31,
   "metadata": {},
   "outputs": [
    {
     "output_type": "execute_result",
     "data": {
      "text/plain": [
       "True"
      ]
     },
     "metadata": {},
     "execution_count": 31
    }
   ],
   "source": [
    "np.arange(0, 1.1, 0.1).tolist()[3] - 0.3 < 1e-8 # = 보다는 <,> 비교가 이상적"
   ]
  },
  {
   "source": [
    "- ones, zeros, empty"
   ],
   "cell_type": "markdown",
   "metadata": {}
  },
  {
   "cell_type": "code",
   "execution_count": 32,
   "metadata": {},
   "outputs": [
    {
     "output_type": "execute_result",
     "data": {
      "text/plain": [
       "array([0, 0, 0, 0, 0], dtype=int8)"
      ]
     },
     "metadata": {},
     "execution_count": 32
    }
   ],
   "source": [
    "a = np.zeros((5,), dtype = np.int8) # zeros((row, col)) | element를 0로 다 초기화\n",
    "a"
   ]
  },
  {
   "cell_type": "code",
   "execution_count": 33,
   "metadata": {},
   "outputs": [
    {
     "output_type": "execute_result",
     "data": {
      "text/plain": [
       "array([[1, 1, 1, 1],\n",
       "       [1, 1, 1, 1]], dtype=int8)"
      ]
     },
     "metadata": {},
     "execution_count": 33
    }
   ],
   "source": [
    "b = np.ones((2, 4), dtype = np.int8)    # ones((row, col)) | element를 1으로 다 초기화\n",
    "b"
   ]
  },
  {
   "cell_type": "code",
   "execution_count": 34,
   "metadata": {},
   "outputs": [
    {
     "output_type": "execute_result",
     "data": {
      "text/plain": [
       "array([[0.1, 0.2, 0.3, 0.4, 0.5],\n",
       "       [0.6, 0.7, 0.8, 0.9, 1. ]])"
      ]
     },
     "metadata": {},
     "execution_count": 34
    }
   ],
   "source": [
    "np.empty((2, 5))    # empty | 초기화 되지 않은 array 값 출력"
   ]
  },
  {
   "cell_type": "code",
   "execution_count": 35,
   "metadata": {},
   "outputs": [
    {
     "output_type": "execute_result",
     "data": {
      "text/plain": [
       "array([[1, 1, 1, 1, 1, 1],\n",
       "       [1, 1, 1, 1, 1, 1],\n",
       "       [1, 1, 1, 1, 1, 1],\n",
       "       [1, 1, 1, 1, 1, 1]])"
      ]
     },
     "metadata": {},
     "execution_count": 35
    }
   ],
   "source": [
    "a = np.arange(24).reshape(4, -1)\n",
    "np.ones_like(a) # a의 형식은 그대로, 1로 채우기"
   ]
  },
  {
   "cell_type": "code",
   "execution_count": 36,
   "metadata": {},
   "outputs": [
    {
     "output_type": "execute_result",
     "data": {
      "text/plain": [
       "array([[0, 0, 0, 0, 0, 0],\n",
       "       [0, 0, 0, 0, 0, 0],\n",
       "       [0, 0, 0, 0, 0, 0],\n",
       "       [0, 0, 0, 0, 0, 0]])"
      ]
     },
     "metadata": {},
     "execution_count": 36
    }
   ],
   "source": [
    "np.zeros_like(a)"
   ]
  },
  {
   "source": [
    "- identity, eye"
   ],
   "cell_type": "markdown",
   "metadata": {}
  },
  {
   "cell_type": "code",
   "execution_count": 37,
   "metadata": {},
   "outputs": [
    {
     "output_type": "execute_result",
     "data": {
      "text/plain": [
       "array([[1., 0., 0.],\n",
       "       [0., 1., 0.],\n",
       "       [0., 0., 1.]])"
      ]
     },
     "metadata": {},
     "execution_count": 37
    }
   ],
   "source": [
    "np.identity(3)  # identity(n) | 단위행렬 출력 - 대각선 값이 1, 나머지가 0인 n x n 행렬(정방행렬)을 나타냄"
   ]
  },
  {
   "cell_type": "code",
   "execution_count": 38,
   "metadata": {},
   "outputs": [
    {
     "output_type": "execute_result",
     "data": {
      "text/plain": [
       "array([[1., 0., 0., 0., 0.],\n",
       "       [0., 1., 0., 0., 0.],\n",
       "       [0., 0., 1., 0., 0.]])"
      ]
     },
     "metadata": {},
     "execution_count": 38
    }
   ],
   "source": [
    "np.eye(3, 5)    # np.eye(row, col) | 대각선이 1인 row x col 행렬 출력"
   ]
  },
  {
   "cell_type": "code",
   "execution_count": 39,
   "metadata": {},
   "outputs": [
    {
     "output_type": "execute_result",
     "data": {
      "text/plain": [
       "(array([[0., 0., 0., 0., 0.],\n",
       "        [1., 0., 0., 0., 0.],\n",
       "        [0., 1., 0., 0., 0.]]),\n",
       " array([[0., 0., 1., 0., 0.],\n",
       "        [0., 0., 0., 1., 0.],\n",
       "        [0., 0., 0., 0., 1.]]))"
      ]
     },
     "metadata": {},
     "execution_count": 39
    }
   ],
   "source": [
    "np.eye(N = 3, M = 5, k = -1), np.eye(3, 5, 2)"
   ]
  },
  {
   "source": [
    "- Random sampling"
   ],
   "cell_type": "markdown",
   "metadata": {}
  },
  {
   "cell_type": "code",
   "execution_count": 40,
   "metadata": {},
   "outputs": [
    {
     "output_type": "execute_result",
     "data": {
      "text/plain": [
       "array([[0.60597828, 0.73336936, 0.13894716, 0.31267308, 0.99724328],\n",
       "       [0.12816238, 0.17899311, 0.75292543, 0.66216051, 0.78431013]])"
      ]
     },
     "metadata": {},
     "execution_count": 40
    }
   ],
   "source": [
    "np.random.seed(2021)\n",
    "np.random.uniform(0, 1, 10).reshape(2, 5)   # uniform() | 균등분포 - 요소들의 출력 확률을 각각 동일하게 부여"
   ]
  },
  {
   "cell_type": "code",
   "execution_count": 41,
   "metadata": {},
   "outputs": [
    {
     "output_type": "execute_result",
     "data": {
      "text/plain": [
       "array([[ 0.10641374,  0.42215483,  0.12420684, -0.83795346,  0.4090157 ],\n",
       "       [ 0.10275122, -1.90772239,  1.1002243 , -1.40232506, -0.22508127]])"
      ]
     },
     "metadata": {},
     "execution_count": 41
    }
   ],
   "source": [
    "np.random.normal(0, 1, 10).reshape(2, 5)    # normal() | 정규분포 - 요소들이 정규분포를 그리도록 샘플링"
   ]
  },
  {
   "cell_type": "code",
   "execution_count": 42,
   "metadata": {},
   "outputs": [
    {
     "output_type": "execute_result",
     "data": {
      "text/plain": [
       "array([17, 13, 17, 16, 17, 20, 19, 11, 18, 18])"
      ]
     },
     "metadata": {},
     "execution_count": 42
    }
   ],
   "source": [
    "np.random.binomial(100, 1/6, 10)    # binomial(전체개수, 확률, 선택할 개수) | 이항분포"
   ]
  },
  {
   "cell_type": "code",
   "execution_count": 43,
   "metadata": {},
   "outputs": [
    {
     "output_type": "execute_result",
     "data": {
      "text/plain": [
       "1"
      ]
     },
     "metadata": {},
     "execution_count": 43
    }
   ],
   "source": [
    "np.random.poisson() # poisson() | 포아송 분포"
   ]
  },
  {
   "cell_type": "code",
   "execution_count": null,
   "metadata": {},
   "outputs": [],
   "source": [
    "np.random.standard_t()  # standard_t() | t-분포"
   ]
  },
  {
   "cell_type": "code",
   "execution_count": null,
   "metadata": {},
   "outputs": [],
   "source": [
    "np.random.f()   # f() | f-분포"
   ]
  },
  {
   "source": [
    "### 6. Operation"
   ],
   "cell_type": "markdown",
   "metadata": {}
  },
  {
   "cell_type": "code",
   "execution_count": 68,
   "metadata": {},
   "outputs": [
    {
     "output_type": "execute_result",
     "data": {
      "text/plain": [
       "55.0"
      ]
     },
     "metadata": {},
     "execution_count": 68
    }
   ],
   "source": [
    "a = np.arange(1, 11, dtype = np.float32)\n",
    "a.sum()"
   ]
  },
  {
   "cell_type": "code",
   "execution_count": 70,
   "metadata": {},
   "outputs": [
    {
     "output_type": "execute_result",
     "data": {
      "text/plain": [
       "array([[ 1,  2,  3,  4],\n",
       "       [ 5,  6,  7,  8],\n",
       "       [ 9, 10, 11, 12]])"
      ]
     },
     "metadata": {},
     "execution_count": 70
    }
   ],
   "source": [
    "b = np.arange(1, 13).reshape(3, 4)\n",
    "b"
   ]
  },
  {
   "cell_type": "code",
   "execution_count": 71,
   "metadata": {},
   "outputs": [
    {
     "output_type": "execute_result",
     "data": {
      "text/plain": [
       "array([10, 26, 42])"
      ]
     },
     "metadata": {},
     "execution_count": 71
    }
   ],
   "source": [
    "b.sum(axis = 1) # axis = 1 | 행 방향으로 더하기"
   ]
  },
  {
   "cell_type": "code",
   "execution_count": 72,
   "metadata": {},
   "outputs": [
    {
     "output_type": "execute_result",
     "data": {
      "text/plain": [
       "array([15, 18, 21, 24])"
      ]
     },
     "metadata": {},
     "execution_count": 72
    }
   ],
   "source": [
    "b.sum(axis = 0) # axis = 0 | 열 방향으로 더하기"
   ]
  },
  {
   "source": [
    "print(b.mean())\n",
    "print(b.mean(axis = 1))\n",
    "print(b.mean(axis = 0))"
   ],
   "cell_type": "code",
   "metadata": {},
   "execution_count": 73,
   "outputs": [
    {
     "output_type": "stream",
     "name": "stdout",
     "text": [
      "6.5\n[ 2.5  6.5 10.5]\n[5. 6. 7. 8.]\n"
     ]
    }
   ]
  },
  {
   "cell_type": "code",
   "execution_count": 75,
   "metadata": {},
   "outputs": [
    {
     "output_type": "stream",
     "name": "stdout",
     "text": [
      "3.452052529534663\n[1.11803399 1.11803399 1.11803399]\n[3.26598632 3.26598632 3.26598632 3.26598632]\n"
     ]
    }
   ],
   "source": [
    "print(b.std())  # std() | 표준편차\n",
    "print(b.std(axis = 1))\n",
    "print(b.std(axis = 0))"
   ]
  },
  {
   "cell_type": "code",
   "execution_count": 22,
   "metadata": {},
   "outputs": [
    {
     "output_type": "execute_result",
     "data": {
      "text/plain": [
       "201"
      ]
     },
     "metadata": {},
     "execution_count": 22
    }
   ],
   "source": [
    "x = np.arange(-1, 1.01, 0.01)\n",
    "x.size"
   ]
  },
  {
   "cell_type": "code",
   "execution_count": 25,
   "metadata": {},
   "outputs": [
    {
     "output_type": "execute_result",
     "data": {
      "text/plain": [
       "array([0.36787944, 0.37157669, 0.3753111 , 0.37908304, 0.38289289,\n",
       "       0.38674102, 0.39062784, 0.39455371, 0.39851904, 0.40252422,\n",
       "       0.40656966, 0.41065575, 0.41478291, 0.41895155, 0.42316208,\n",
       "       0.42741493, 0.43171052, 0.43604929, 0.44043165, 0.44485807,\n",
       "       0.44932896, 0.4538448 , 0.45840601, 0.46301307, 0.46766643,\n",
       "       0.47236655, 0.47711392, 0.48190899, 0.48675226, 0.4916442 ,\n",
       "       0.4965853 , 0.50157607, 0.50661699, 0.51170858, 0.51685133,\n",
       "       0.52204578, 0.52729242, 0.5325918 , 0.53794444, 0.54335087,\n",
       "       0.54881164, 0.55432728, 0.55989837, 0.56552544, 0.57120906,\n",
       "       0.57694981, 0.58274825, 0.58860497, 0.59452055, 0.60049558,\n",
       "       0.60653066, 0.61262639, 0.61878339, 0.62500227, 0.63128365,\n",
       "       0.63762815, 0.64403642, 0.65050909, 0.65704682, 0.66365025,\n",
       "       0.67032005, 0.67705687, 0.68386141, 0.69073433, 0.69767633,\n",
       "       0.70468809, 0.71177032, 0.71892373, 0.72614904, 0.73344696,\n",
       "       0.74081822, 0.74826357, 0.75578374, 0.76337949, 0.77105159,\n",
       "       0.77880078, 0.78662786, 0.7945336 , 0.8025188 , 0.81058425,\n",
       "       0.81873075, 0.82695913, 0.83527021, 0.84366482, 0.85214379,\n",
       "       0.86070798, 0.86935824, 0.87809543, 0.88692044, 0.89583414,\n",
       "       0.90483742, 0.91393119, 0.92311635, 0.93239382, 0.94176453,\n",
       "       0.95122942, 0.96078944, 0.97044553, 0.98019867, 0.99004983,\n",
       "       1.        , 1.01005017, 1.02020134, 1.03045453, 1.04081077,\n",
       "       1.0512711 , 1.06183655, 1.07250818, 1.08328707, 1.09417428,\n",
       "       1.10517092, 1.11627807, 1.12749685, 1.13882838, 1.1502738 ,\n",
       "       1.16183424, 1.17351087, 1.18530485, 1.19721736, 1.2092496 ,\n",
       "       1.22140276, 1.23367806, 1.24607673, 1.25860001, 1.27124915,\n",
       "       1.28402542, 1.29693009, 1.30996445, 1.32312981, 1.33642749,\n",
       "       1.34985881, 1.36342511, 1.37712776, 1.39096813, 1.40494759,\n",
       "       1.41906755, 1.43332941, 1.44773461, 1.46228459, 1.47698079,\n",
       "       1.4918247 , 1.50681779, 1.52196156, 1.53725752, 1.55270722,\n",
       "       1.56831219, 1.58407398, 1.59999419, 1.6160744 , 1.63231622,\n",
       "       1.64872127, 1.66529119, 1.68202765, 1.69893231, 1.71600686,\n",
       "       1.73325302, 1.7506725 , 1.76826705, 1.78603843, 1.80398842,\n",
       "       1.8221188 , 1.8404314 , 1.85892804, 1.87761058, 1.89648088,\n",
       "       1.91554083, 1.93479233, 1.95423732, 1.97387773, 1.99371553,\n",
       "       2.01375271, 2.03399126, 2.05443321, 2.07508061, 2.09593551,\n",
       "       2.11700002, 2.13827622, 2.15976625, 2.18147227, 2.20339643,\n",
       "       2.22554093, 2.24790799, 2.27049984, 2.29331874, 2.31636698,\n",
       "       2.33964685, 2.36316069, 2.38691085, 2.41089971, 2.43512965,\n",
       "       2.45960311, 2.48432253, 2.50929039, 2.53450918, 2.55998142,\n",
       "       2.58570966, 2.61169647, 2.63794446, 2.66445624, 2.69123447,\n",
       "       2.71828183])"
      ]
     },
     "metadata": {},
     "execution_count": 25
    }
   ],
   "source": [
    "y = np.exp(x)\n",
    "y"
   ]
  },
  {
   "cell_type": "code",
   "execution_count": 24,
   "metadata": {},
   "outputs": [
    {
     "output_type": "execute_result",
     "data": {
      "text/plain": [
       "array([0.26894142, 0.27091208, 0.27289178, 0.2748805 , 0.27687819,\n",
       "       0.27888482, 0.28090034, 0.28292471, 0.28495789, 0.28699984,\n",
       "       0.2890505 , 0.29110983, 0.29317778, 0.2952543 , 0.29733935,\n",
       "       0.29943286, 0.30153478, 0.30364507, 0.30576366, 0.3078905 ,\n",
       "       0.31002552, 0.31216867, 0.31431989, 0.31647911, 0.31864627,\n",
       "       0.3208213 , 0.32300414, 0.32519473, 0.32739298, 0.32959884,\n",
       "       0.33181223, 0.33403307, 0.3362613 , 0.33849684, 0.34073961,\n",
       "       0.34298954, 0.34524654, 0.34751054, 0.34978145, 0.3520592 ,\n",
       "       0.35434369, 0.35663485, 0.35893259, 0.36123682, 0.36354746,\n",
       "       0.36586441, 0.36818758, 0.37051689, 0.37285223, 0.37519353,\n",
       "       0.37754067, 0.37989357, 0.38225213, 0.38461624, 0.38698582,\n",
       "       0.38936077, 0.39174097, 0.39412633, 0.39651675, 0.39891212,\n",
       "       0.40131234, 0.4037173 , 0.4061269 , 0.40854102, 0.41095957,\n",
       "       0.41338242, 0.41580948, 0.41824062, 0.42067575, 0.42311474,\n",
       "       0.42555748, 0.42800387, 0.43045378, 0.4329071 , 0.43536371,\n",
       "       0.4378235 , 0.44028635, 0.44275215, 0.44522076, 0.44769209,\n",
       "       0.450166  , 0.45264238, 0.45512111, 0.45760206, 0.46008512,\n",
       "       0.46257015, 0.46505705, 0.46754569, 0.47003595, 0.4725277 ,\n",
       "       0.47502081, 0.47751518, 0.48001066, 0.48250714, 0.4850045 ,\n",
       "       0.4875026 , 0.49000133, 0.49250056, 0.49500017, 0.49750002,\n",
       "       0.5       , 0.50249998, 0.50499983, 0.50749944, 0.50999867,\n",
       "       0.5124974 , 0.5149955 , 0.51749286, 0.51998934, 0.52248482,\n",
       "       0.52497919, 0.5274723 , 0.52996405, 0.53245431, 0.53494295,\n",
       "       0.53742985, 0.53991488, 0.54239794, 0.54487889, 0.54735762,\n",
       "       0.549834  , 0.55230791, 0.55477924, 0.55724785, 0.55971365,\n",
       "       0.5621765 , 0.56463629, 0.5670929 , 0.56954622, 0.57199613,\n",
       "       0.57444252, 0.57688526, 0.57932425, 0.58175938, 0.58419052,\n",
       "       0.58661758, 0.58904043, 0.59145898, 0.5938731 , 0.5962827 ,\n",
       "       0.59868766, 0.60108788, 0.60348325, 0.60587367, 0.60825903,\n",
       "       0.61063923, 0.61301418, 0.61538376, 0.61774787, 0.62010643,\n",
       "       0.62245933, 0.62480647, 0.62714777, 0.62948311, 0.63181242,\n",
       "       0.63413559, 0.63645254, 0.63876318, 0.64106741, 0.64336515,\n",
       "       0.64565631, 0.6479408 , 0.65021855, 0.65248946, 0.65475346,\n",
       "       0.65701046, 0.65926039, 0.66150316, 0.6637387 , 0.66596693,\n",
       "       0.66818777, 0.67040116, 0.67260702, 0.67480527, 0.67699586,\n",
       "       0.6791787 , 0.68135373, 0.68352089, 0.68568011, 0.68783133,\n",
       "       0.68997448, 0.6921095 , 0.69423634, 0.69635493, 0.69846522,\n",
       "       0.70056714, 0.70266065, 0.7047457 , 0.70682222, 0.70889017,\n",
       "       0.7109495 , 0.71300016, 0.71504211, 0.71707529, 0.71909966,\n",
       "       0.72111518, 0.72312181, 0.7251195 , 0.72710822, 0.72908792,\n",
       "       0.73105858])"
      ]
     },
     "metadata": {},
     "execution_count": 24
    }
   ],
   "source": [
    "sigmoid = 1/(1 + np.exp(-x))\n",
    "sigmoid"
   ]
  },
  {
   "source": [
    "- concatenate"
   ],
   "cell_type": "markdown",
   "metadata": {}
  },
  {
   "cell_type": "code",
   "execution_count": 26,
   "metadata": {},
   "outputs": [
    {
     "output_type": "execute_result",
     "data": {
      "text/plain": [
       "array([[1, 2],\n",
       "       [3, 4],\n",
       "       [5, 6]])"
      ]
     },
     "metadata": {},
     "execution_count": 26
    }
   ],
   "source": [
    "a = np.arange(1, 5).reshape(2, 2)\n",
    "b = np.array([[5, 6]])\n",
    "np.vstack((a, b))   # vstack() | vertical stack : 행렬을 세로로 결합"
   ]
  },
  {
   "cell_type": "code",
   "execution_count": 27,
   "metadata": {},
   "outputs": [
    {
     "output_type": "execute_result",
     "data": {
      "text/plain": [
       "array([[1, 2],\n",
       "       [3, 4],\n",
       "       [5, 6]])"
      ]
     },
     "metadata": {},
     "execution_count": 27
    }
   ],
   "source": [
    "np.concatenate((a, b), axis = 0)    # concatenate(a, b), axix = 0 or 1) | 행렬 결합"
   ]
  },
  {
   "cell_type": "code",
   "execution_count": 28,
   "metadata": {},
   "outputs": [
    {
     "output_type": "execute_result",
     "data": {
      "text/plain": [
       "array([[5],\n",
       "       [6]])"
      ]
     },
     "metadata": {},
     "execution_count": 28
    }
   ],
   "source": [
    "b.T # T | 전치행렬 transpose"
   ]
  },
  {
   "cell_type": "code",
   "execution_count": 29,
   "metadata": {},
   "outputs": [
    {
     "output_type": "execute_result",
     "data": {
      "text/plain": [
       "array([[1, 2, 5],\n",
       "       [3, 4, 6]])"
      ]
     },
     "metadata": {},
     "execution_count": 29
    }
   ],
   "source": [
    "np.concatenate((a, b.T), axis = 1)"
   ]
  },
  {
   "cell_type": "code",
   "execution_count": 30,
   "metadata": {},
   "outputs": [
    {
     "output_type": "execute_result",
     "data": {
      "text/plain": [
       "array([[1, 2, 5],\n",
       "       [3, 4, 6]])"
      ]
     },
     "metadata": {},
     "execution_count": 30
    }
   ],
   "source": [
    "np.hstack((a, b.T)) # hstack() | horizontal stack : 행렬을 가로로 결합"
   ]
  },
  {
   "source": [
    "### 7. Array operation"
   ],
   "cell_type": "markdown",
   "metadata": {}
  },
  {
   "cell_type": "code",
   "execution_count": 34,
   "metadata": {},
   "outputs": [
    {
     "output_type": "execute_result",
     "data": {
      "text/plain": [
       "array([[2, 4],\n",
       "       [6, 8]])"
      ]
     },
     "metadata": {},
     "execution_count": 34
    }
   ],
   "source": [
    "a + a"
   ]
  },
  {
   "cell_type": "code",
   "execution_count": 31,
   "metadata": {},
   "outputs": [
    {
     "output_type": "execute_result",
     "data": {
      "text/plain": [
       "array([[0, 0],\n",
       "       [0, 0]])"
      ]
     },
     "metadata": {},
     "execution_count": 31
    }
   ],
   "source": [
    "a - a"
   ]
  },
  {
   "cell_type": "code",
   "execution_count": 32,
   "metadata": {},
   "outputs": [
    {
     "output_type": "execute_result",
     "data": {
      "text/plain": [
       "array([[ 1,  4],\n",
       "       [ 9, 16]])"
      ]
     },
     "metadata": {},
     "execution_count": 32
    }
   ],
   "source": [
    "a * a"
   ]
  },
  {
   "cell_type": "code",
   "execution_count": 33,
   "metadata": {},
   "outputs": [
    {
     "output_type": "execute_result",
     "data": {
      "text/plain": [
       "array([[1., 1.],\n",
       "       [1., 1.]])"
      ]
     },
     "metadata": {},
     "execution_count": 33
    }
   ],
   "source": [
    "a / a"
   ]
  },
  {
   "source": [
    "- Dot product"
   ],
   "cell_type": "markdown",
   "metadata": {}
  },
  {
   "cell_type": "code",
   "execution_count": 36,
   "metadata": {},
   "outputs": [
    {
     "output_type": "execute_result",
     "data": {
      "text/plain": [
       "array([[14, 32],\n",
       "       [32, 77]])"
      ]
     },
     "metadata": {},
     "execution_count": 36
    }
   ],
   "source": [
    "a = np.arange(1, 7).reshape(2, 3)\n",
    "a.dot(a.T)  # dot() | 행렬끼리 곱하기"
   ]
  },
  {
   "cell_type": "code",
   "execution_count": 37,
   "metadata": {},
   "outputs": [
    {
     "output_type": "execute_result",
     "data": {
      "text/plain": [
       "array([[14, 32],\n",
       "       [32, 77]])"
      ]
     },
     "metadata": {},
     "execution_count": 37
    }
   ],
   "source": [
    "np.dot(a, a.T)"
   ]
  },
  {
   "source": [
    "- Broadcasting"
   ],
   "cell_type": "markdown",
   "metadata": {}
  },
  {
   "cell_type": "code",
   "execution_count": 40,
   "metadata": {},
   "outputs": [
    {
     "output_type": "execute_result",
     "data": {
      "text/plain": [
       "array([[11, 12, 13],\n",
       "       [14, 15, 16]])"
      ]
     },
     "metadata": {},
     "execution_count": 40
    }
   ],
   "source": [
    "a + 10"
   ]
  },
  {
   "cell_type": "code",
   "execution_count": 41,
   "metadata": {},
   "outputs": [
    {
     "output_type": "execute_result",
     "data": {
      "text/plain": [
       "array([[ 2,  4,  6],\n",
       "       [ 8, 10, 12]])"
      ]
     },
     "metadata": {},
     "execution_count": 41
    }
   ],
   "source": [
    "a * 2"
   ]
  },
  {
   "cell_type": "code",
   "execution_count": 42,
   "metadata": {},
   "outputs": [
    {
     "output_type": "execute_result",
     "data": {
      "text/plain": [
       "array([[ 1,  4,  9],\n",
       "       [16, 25, 36]])"
      ]
     },
     "metadata": {},
     "execution_count": 42
    }
   ],
   "source": [
    "a ** 2"
   ]
  },
  {
   "cell_type": "code",
   "execution_count": 43,
   "metadata": {},
   "outputs": [
    {
     "output_type": "execute_result",
     "data": {
      "text/plain": [
       "array([[11, 22, 33],\n",
       "       [14, 25, 36]])"
      ]
     },
     "metadata": {},
     "execution_count": 43
    }
   ],
   "source": [
    "a + np.array([10, 20, 30])"
   ]
  },
  {
   "source": [
    "### 8. Comparison"
   ],
   "cell_type": "markdown",
   "metadata": {}
  },
  {
   "cell_type": "code",
   "execution_count": 44,
   "metadata": {},
   "outputs": [
    {
     "output_type": "execute_result",
     "data": {
      "text/plain": [
       "(False, True)"
      ]
     },
     "metadata": {},
     "execution_count": 44
    }
   ],
   "source": [
    "a = np.arange(5)\n",
    "np.all(a), np.any(a)    # all() | 모든게 True인가(0이 없는가) / any() | 하나라더 True인가"
   ]
  },
  {
   "cell_type": "code",
   "execution_count": 45,
   "metadata": {},
   "outputs": [
    {
     "output_type": "execute_result",
     "data": {
      "text/plain": [
       "array([False, False, False,  True,  True])"
      ]
     },
     "metadata": {},
     "execution_count": 45
    }
   ],
   "source": [
    "a > 2"
   ]
  },
  {
   "cell_type": "code",
   "execution_count": 46,
   "metadata": {},
   "outputs": [
    {
     "output_type": "execute_result",
     "data": {
      "text/plain": [
       "array([3, 4])"
      ]
     },
     "metadata": {},
     "execution_count": 46
    }
   ],
   "source": [
    "a[a>2]"
   ]
  },
  {
   "source": [
    "- Logical operation"
   ],
   "cell_type": "markdown",
   "metadata": {}
  },
  {
   "cell_type": "code",
   "execution_count": 57,
   "metadata": {},
   "outputs": [
    {
     "output_type": "execute_result",
     "data": {
      "text/plain": [
       "(array([0, 1, 2, 3, 4]), array([False,  True,  True, False, False]))"
      ]
     },
     "metadata": {},
     "execution_count": 57
    }
   ],
   "source": [
    "a = np.arange(5)\n",
    "b = np.logical_and(a > 0, a < 3)    # logical_and() | 조건을 만족하면 True, 아니면 False\n",
    "a, b"
   ]
  },
  {
   "cell_type": "code",
   "execution_count": 59,
   "metadata": {},
   "outputs": [
    {
     "output_type": "execute_result",
     "data": {
      "text/plain": [
       "array([ True, False, False,  True,  True])"
      ]
     },
     "metadata": {},
     "execution_count": 59
    }
   ],
   "source": [
    "c = np.logical_not(b)   # logical_not() | True - False 반대로\n",
    "c"
   ]
  },
  {
   "cell_type": "code",
   "execution_count": 60,
   "metadata": {},
   "outputs": [
    {
     "output_type": "execute_result",
     "data": {
      "text/plain": [
       "array([ True,  True,  True,  True,  True])"
      ]
     },
     "metadata": {},
     "execution_count": 60
    }
   ],
   "source": [
    "np.logical_or(b, c) # logical_or() | 조건 중 하나라도 True이면 True"
   ]
  },
  {
   "cell_type": "code",
   "execution_count": 61,
   "metadata": {},
   "outputs": [
    {
     "output_type": "execute_result",
     "data": {
      "text/plain": [
       "array([ True,  True,  True,  True,  True])"
      ]
     },
     "metadata": {},
     "execution_count": 61
    }
   ],
   "source": [
    "np.logical_xor(b, c)    #logical_xor() | "
   ]
  },
  {
   "cell_type": "code",
   "execution_count": 62,
   "metadata": {},
   "outputs": [
    {
     "output_type": "execute_result",
     "data": {
      "text/plain": [
       "(array([3, 4]),)"
      ]
     },
     "metadata": {},
     "execution_count": 62
    }
   ],
   "source": [
    "a = np.arange(5)\n",
    "np.where(a > 2) # where() | 조건을 만족하는 요소의 인덱스"
   ]
  },
  {
   "source": [
    "- NaN(Not a Number), Inf(Infinite)"
   ],
   "cell_type": "markdown",
   "metadata": {}
  },
  {
   "cell_type": "code",
   "execution_count": 54,
   "metadata": {},
   "outputs": [
    {
     "output_type": "execute_result",
     "data": {
      "text/plain": [
       "array([ 1., nan, inf])"
      ]
     },
     "metadata": {},
     "execution_count": 54
    }
   ],
   "source": [
    "a = np.array([1, np.NaN, np.Inf], dtype = float)    # NaN | 정해지지 않은 값 / Inf | 무한대, 가장 큰 수\n",
    "a"
   ]
  },
  {
   "cell_type": "code",
   "execution_count": 55,
   "metadata": {},
   "outputs": [
    {
     "output_type": "execute_result",
     "data": {
      "text/plain": [
       "(array([False,  True, False]), array([ True, False, False]))"
      ]
     },
     "metadata": {},
     "execution_count": 55
    }
   ],
   "source": [
    "np.isnan(a), np.isfinite(a) # isfinite() | 유한수 여부 검사"
   ]
  },
  {
   "source": [
    "- argmax, argmin"
   ],
   "cell_type": "markdown",
   "metadata": {}
  },
  {
   "cell_type": "code",
   "execution_count": 66,
   "metadata": {},
   "outputs": [
    {
     "output_type": "execute_result",
     "data": {
      "text/plain": [
       "(5, 0)"
      ]
     },
     "metadata": {},
     "execution_count": 66
    }
   ],
   "source": [
    "a = np.arange(6)\n",
    "np.argmax(a), np.argmin(a)  # argmax(), argmin() | 가장 큰, 작은 값의 인덱스"
   ]
  },
  {
   "cell_type": "code",
   "execution_count": 67,
   "metadata": {},
   "outputs": [
    {
     "output_type": "execute_result",
     "data": {
      "text/plain": [
       "array([[ 0,  1,  2,  3],\n",
       "       [ 4,  5,  6,  7],\n",
       "       [ 8,  9, 10, 11]])"
      ]
     },
     "metadata": {},
     "execution_count": 67
    }
   ],
   "source": [
    "b = np.arange(12).reshape(3, 4)\n",
    "b"
   ]
  },
  {
   "cell_type": "code",
   "execution_count": 68,
   "metadata": {},
   "outputs": [
    {
     "output_type": "execute_result",
     "data": {
      "text/plain": [
       "array([2, 2, 2, 2])"
      ]
     },
     "metadata": {},
     "execution_count": 68
    }
   ],
   "source": [
    "np.argmax(b, axis = 0)"
   ]
  },
  {
   "cell_type": "code",
   "execution_count": 71,
   "metadata": {},
   "outputs": [
    {
     "output_type": "execute_result",
     "data": {
      "text/plain": [
       "array([0, 0, 0])"
      ]
     },
     "metadata": {},
     "execution_count": 71
    }
   ],
   "source": [
    "np.argmin(b, axis = 1)"
   ]
  },
  {
   "source": [
    "### 9. Boolean and Fancy Index"
   ],
   "cell_type": "markdown",
   "metadata": {}
  },
  {
   "cell_type": "code",
   "execution_count": 75,
   "metadata": {},
   "outputs": [
    {
     "output_type": "execute_result",
     "data": {
      "text/plain": [
       "array([6.45380451, 7.60032425, 2.25052441, 3.81405775])"
      ]
     },
     "metadata": {},
     "execution_count": 75
    }
   ],
   "source": [
    "np.random.seed(2021)\n",
    "a = np.random.uniform(1, 10, 4)\n",
    "a"
   ]
  },
  {
   "cell_type": "code",
   "execution_count": 76,
   "metadata": {},
   "outputs": [
    {
     "output_type": "execute_result",
     "data": {
      "text/plain": [
       "array([ True,  True, False,  True])"
      ]
     },
     "metadata": {},
     "execution_count": 76
    }
   ],
   "source": [
    "a > 3"
   ]
  },
  {
   "cell_type": "code",
   "execution_count": 77,
   "metadata": {},
   "outputs": [
    {
     "output_type": "execute_result",
     "data": {
      "text/plain": [
       "array([6.45380451, 7.60032425, 3.81405775])"
      ]
     },
     "metadata": {},
     "execution_count": 77
    }
   ],
   "source": [
    "# Boolean indexing\n",
    "a[a > 3]    # a > 3을 만족하는 요소만 가져오기"
   ]
  },
  {
   "cell_type": "code",
   "execution_count": 78,
   "metadata": {},
   "outputs": [
    {
     "output_type": "execute_result",
     "data": {
      "text/plain": [
       "array([2, 4, 6, 8])"
      ]
     },
     "metadata": {},
     "execution_count": 78
    }
   ],
   "source": [
    "# Fancy indexing\n",
    "a = np.arange(1, 5) * 2\n",
    "a"
   ]
  },
  {
   "cell_type": "code",
   "execution_count": 80,
   "metadata": {},
   "outputs": [
    {
     "output_type": "execute_result",
     "data": {
      "text/plain": [
       "array([2, 4, 8, 6, 4, 8])"
      ]
     },
     "metadata": {},
     "execution_count": 80
    }
   ],
   "source": [
    "b = np.array([0, 1, 3, 2, 1, 3])\n",
    "a[b]    # b값을 인덱스로 가져옴"
   ]
  },
  {
   "cell_type": "code",
   "execution_count": 82,
   "metadata": {},
   "outputs": [
    {
     "output_type": "execute_result",
     "data": {
      "text/plain": [
       "array([[0, 1, 2, 3],\n",
       "       [4, 5, 6, 7]])"
      ]
     },
     "metadata": {},
     "execution_count": 82
    }
   ],
   "source": [
    "a = np.arange(8).reshape(2, 4)\n",
    "a"
   ]
  },
  {
   "cell_type": "code",
   "execution_count": 81,
   "metadata": {},
   "outputs": [
    {
     "output_type": "execute_result",
     "data": {
      "text/plain": [
       "array([0, 2, 7, 5, 2])"
      ]
     },
     "metadata": {},
     "execution_count": 81
    }
   ],
   "source": [
    "b = np.array([0, 0, 1, 1, 0])\n",
    "c = np.array([0, 2, 3, 1, 2])\n",
    "a[b, c] # n[row index, col index]"
   ]
  }
 ]
}
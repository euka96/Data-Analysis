{
 "metadata": {
  "language_info": {
   "codemirror_mode": {
    "name": "ipython",
    "version": 3
   },
   "file_extension": ".py",
   "mimetype": "text/x-python",
   "name": "python",
   "nbconvert_exporter": "python",
   "pygments_lexer": "ipython3",
   "version": "3.8.8"
  },
  "orig_nbformat": 2,
  "kernelspec": {
   "name": "python388jvsc74a57bd094be3c0045a496f1db0f6c0933821dfb1f75d678fefa7c30ef8ba447fd697bda",
   "display_name": "Python 3.8.8 64-bit ('base': conda)"
  },
  "metadata": {
   "interpreter": {
    "hash": "94be3c0045a496f1db0f6c0933821dfb1f75d678fefa7c30ef8ba447fd697bda"
   }
  }
 },
 "nbformat": 4,
 "nbformat_minor": 2,
 "cells": [
  {
   "cell_type": "code",
   "execution_count": 2,
   "metadata": {},
   "outputs": [],
   "source": [
    "import numpy as np"
   ]
  },
  {
   "source": [
    "# 1\n",
    "np.arange(10, 90, 10).reshape(-1, 4)"
   ],
   "cell_type": "code",
   "metadata": {},
   "execution_count": 4,
   "outputs": [
    {
     "output_type": "execute_result",
     "data": {
      "text/plain": [
       "array([[10, 20, 30, 40],\n",
       "       [50, 60, 70, 80]])"
      ]
     },
     "metadata": {},
     "execution_count": 4
    }
   ]
  },
  {
   "cell_type": "code",
   "execution_count": 8,
   "metadata": {},
   "outputs": [
    {
     "output_type": "execute_result",
     "data": {
      "text/plain": [
       "(7,\n",
       " 14,\n",
       " array([6, 7]),\n",
       " array([ 7, 12]),\n",
       " array([[3, 4],\n",
       "        [8, 9]]))"
      ]
     },
     "metadata": {},
     "execution_count": 8
    }
   ],
   "source": [
    "# 2\n",
    "m = np.arange(0, 15).reshape(-1, 5)\n",
    "m[1, 2], m[2, 4], m[1, 1:3], m[1:, 2], m[:2,3:5]"
   ]
  },
  {
   "cell_type": "code",
   "execution_count": 15,
   "metadata": {},
   "outputs": [
    {
     "output_type": "execute_result",
     "data": {
      "text/plain": [
       "([0, 3, 6, 9, 12], [1, 5, 9, 13], [9])"
      ]
     },
     "metadata": {},
     "execution_count": 15
    }
   ],
   "source": [
    "# 3\n",
    "f = m.flatten()\n",
    "[i for i in range(len(f)) if i % 3 == 0], [i for i in range(len(f)) if i % 4 == 1], [i for i in range(len(f)) if i % 3 == 0 and i % 4 == 1]"
   ]
  },
  {
   "cell_type": "code",
   "execution_count": 18,
   "metadata": {},
   "outputs": [
    {
     "output_type": "execute_result",
     "data": {
      "text/plain": [
       "array([[2., 1., 0., 0., 0.],\n",
       "       [3., 2., 1., 0., 0.],\n",
       "       [0., 3., 2., 1., 0.],\n",
       "       [0., 0., 3., 2., 1.],\n",
       "       [0., 0., 0., 3., 2.]])"
      ]
     },
     "metadata": {},
     "execution_count": 18
    }
   ],
   "source": [
    "# 4\n",
    "np.eye(5, 5) * 2 + np.eye(5, 5, -1) * 3 + np.eye(5, 5, 1)"
   ]
  },
  {
   "cell_type": "code",
   "execution_count": 23,
   "metadata": {},
   "outputs": [
    {
     "output_type": "execute_result",
     "data": {
      "text/plain": [
       "(9.555227113882172,\n",
       " array([28.68344748, 19.56573653, 38.87121906, 23.69727986, 22.57360459]),\n",
       " array([6.99424702, 5.07239822, 9.42228742, 9.52379474, 9.55522711]),\n",
       " array([3.96751351, 4.2398834 , 4.82440638, 4.92058111, 5.68810388,\n",
       "        3.03776922]),\n",
       " array([0.44946685, 1.17730157, 0.95968739, 1.3010046 , 1.08044703,\n",
       "        1.28424109]))"
      ]
     },
     "metadata": {},
     "execution_count": 23
    }
   ],
   "source": [
    "# 5\n",
    "m = np.random.uniform(0,10, 30).reshape(5, 6)\n",
    "m.max(), m.sum(axis = 1), m.max(axis = 1), m.mean(axis = 0), m.min(axis = 0)"
   ]
  },
  {
   "cell_type": "code",
   "execution_count": 44,
   "metadata": {},
   "outputs": [
    {
     "output_type": "execute_result",
     "data": {
      "text/plain": [
       "array([[  1,   4,   2,   3],\n",
       "       [ 46,  71,  99, 100],\n",
       "       [ 81, 100,  59,  90]])"
      ]
     },
     "metadata": {},
     "execution_count": 44
    }
   ],
   "source": [
    "# 6\n",
    "test = np.array([[1, 2, 3, 4], [46, 99, 100, 71], [81, 59, 90, 100]])\n",
    "test[:, test[1].argsort()]  # test[전체, 열을 1행기준으로 정렬]"
   ]
  },
  {
   "cell_type": "code",
   "execution_count": 6,
   "metadata": {},
   "outputs": [
    {
     "output_type": "execute_result",
     "data": {
      "text/plain": [
       "3.6596662188213878"
      ]
     },
     "metadata": {},
     "execution_count": 6
    }
   ],
   "source": [
    "# 7\n",
    "np.random.uniform(1, 6, 100).mean()"
   ]
  },
  {
   "cell_type": "code",
   "execution_count": 197,
   "metadata": {},
   "outputs": [
    {
     "output_type": "execute_result",
     "data": {
      "text/plain": [
       "array([10000.,  9995.,  9761.,  9899.,  9804.,  9796.,  9785.,  9813.,\n",
       "        9873.,  9971.,  9969., 10084., 10091.,  9888.,  9917., 10017.,\n",
       "       10174., 10393., 10464., 10386., 10230., 10256., 10122.,  9958.,\n",
       "        9904.,  9828.,  9723.,  9679.,  9543.,  9508.,  9476.,  9417.,\n",
       "        9515.,  9595.,  9700.,  9752.,  9795.,  9766.,  9885.,  9968.,\n",
       "       10190., 10216., 10103., 10148., 10214., 10199., 10154., 10111.,\n",
       "       10154., 10174., 10057., 10077., 10083., 10027.,  9899.,  9883.,\n",
       "        9813.,  9898.,  9926.,  9928.,  9870.,  9692.,  9792.,  9771.,\n",
       "        9784.,  9673.,  9727.,  9923.,  9886.,  9873., 10023.,  9939.,\n",
       "       10060., 10015., 10053.,  9968.,  9915.,  9867.,  9803.,  9763.,\n",
       "        9722.,  9803.,  9707.,  9689.,  9766.,  9600.,  9550.,  9633.,\n",
       "        9521.,  9619.,  9619.,  9547.,  9418.,  9402.,  9369.,  9429.,\n",
       "        9472.,  9478.,  9473.,  9615.,  9811.,  9776.,  9913.,  9782.,\n",
       "        9751.,  9849.,  9909.,  9998.,  9951.,  9752.,  9765.,  9779.,\n",
       "        9880.,  9825.,  9914., 10124., 10043., 10040., 10077., 10160.,\n",
       "       10210., 10225., 10157., 10288., 10346., 10055., 10112., 10140.,\n",
       "       10318., 10272., 10540., 10473., 10437., 10415., 10297., 10380.,\n",
       "       10140., 10211., 10178., 10264., 10305., 10252., 10232., 10336.,\n",
       "       10573., 10507., 10417., 10356., 10386., 10361., 10397., 10287.,\n",
       "       10383., 10262., 10166., 10242., 10188., 10229., 10150., 10231.,\n",
       "       10262., 10208., 10386., 10399., 10425., 10558., 10468., 10623.,\n",
       "       10721., 10565., 10594., 10685., 10843., 10738., 10694., 10828.,\n",
       "       10819., 10856., 10812., 10815., 10831., 10801., 10750., 10769.,\n",
       "       10768., 10934., 11007., 11150., 11073., 11120., 11125., 11002.,\n",
       "       10784., 10894., 10687., 10714., 10437., 10267., 10251., 10292.,\n",
       "       10261., 10306., 10219., 10162., 10142., 10172., 10181., 10224.,\n",
       "       10206., 10347., 10242., 10168., 10033.,  9998., 10001., 10114.,\n",
       "       10017.,  9984., 10029., 10018.,  9964.,  9977., 10135., 10121.,\n",
       "       10134.,  9994.,  9892.,  9830.,  9723.,  9754.,  9633.,  9663.,\n",
       "        9589.,  9466.,  9587.,  9366.,  9435.,  9511.,  9610.,  9547.,\n",
       "        9555.,  9574.,  9606.,  9536.,  9615.,  9612.,  9587.,  9560.,\n",
       "        9670.,  9654.,  9846.])"
      ]
     },
     "metadata": {},
     "execution_count": 197
    }
   ],
   "source": [
    "# 8\n",
    "stock = [10000]\n",
    "for _ in range(0, 250) :\n",
    "    stock.append(np.random.normal(0, 1) * 0.01 * stock[-1] + stock[-1]) # random.normal(기댓값/모평균, 표준편차, 갯수)\n",
    "np.around(stock)"
   ]
  },
  {
   "cell_type": "code",
   "execution_count": null,
   "metadata": {},
   "outputs": [],
   "source": []
  }
 ]
}
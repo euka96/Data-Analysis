{
 "metadata": {
  "language_info": {
   "codemirror_mode": {
    "name": "ipython",
    "version": 3
   },
   "file_extension": ".py",
   "mimetype": "text/x-python",
   "name": "python",
   "nbconvert_exporter": "python",
   "pygments_lexer": "ipython3",
   "version": "3.8.8"
  },
  "orig_nbformat": 2,
  "kernelspec": {
   "name": "python388jvsc74a57bd094be3c0045a496f1db0f6c0933821dfb1f75d678fefa7c30ef8ba447fd697bda",
   "display_name": "Python 3.8.8 64-bit ('base': conda)"
  },
  "metadata": {
   "interpreter": {
    "hash": "94be3c0045a496f1db0f6c0933821dfb1f75d678fefa7c30ef8ba447fd697bda"
   }
  }
 },
 "nbformat": 4,
 "nbformat_minor": 2,
 "cells": [
  {
   "cell_type": "code",
   "execution_count": 2,
   "metadata": {},
   "outputs": [],
   "source": [
    "import numpy as np"
   ]
  },
  {
   "source": [
    "# 1\n",
    "np.arange(10, 90, 10).reshape(-1, 4)"
   ],
   "cell_type": "code",
   "metadata": {},
   "execution_count": 4,
   "outputs": [
    {
     "output_type": "execute_result",
     "data": {
      "text/plain": [
       "array([[10, 20, 30, 40],\n",
       "       [50, 60, 70, 80]])"
      ]
     },
     "metadata": {},
     "execution_count": 4
    }
   ]
  },
  {
   "cell_type": "code",
   "execution_count": 8,
   "metadata": {},
   "outputs": [
    {
     "output_type": "execute_result",
     "data": {
      "text/plain": [
       "(7,\n",
       " 14,\n",
       " array([6, 7]),\n",
       " array([ 7, 12]),\n",
       " array([[3, 4],\n",
       "        [8, 9]]))"
      ]
     },
     "metadata": {},
     "execution_count": 8
    }
   ],
   "source": [
    "# 2\n",
    "m = np.arange(0, 15).reshape(-1, 5)\n",
    "m[1, 2], m[2, 4], m[1, 1:3], m[1:, 2], m[:2,3:5]"
   ]
  },
  {
   "cell_type": "code",
   "execution_count": 15,
   "metadata": {},
   "outputs": [
    {
     "output_type": "execute_result",
     "data": {
      "text/plain": [
       "([0, 3, 6, 9, 12], [1, 5, 9, 13], [9])"
      ]
     },
     "metadata": {},
     "execution_count": 15
    }
   ],
   "source": [
    "# 3\n",
    "f = m.flatten()\n",
    "[i for i in range(len(f)) if i % 3 == 0], [i for i in range(len(f)) if i % 4 == 1], [i for i in range(len(f)) if i % 3 == 0 and i % 4 == 1]"
   ]
  },
  {
   "cell_type": "code",
   "execution_count": 18,
   "metadata": {},
   "outputs": [
    {
     "output_type": "execute_result",
     "data": {
      "text/plain": [
       "array([[2., 1., 0., 0., 0.],\n",
       "       [3., 2., 1., 0., 0.],\n",
       "       [0., 3., 2., 1., 0.],\n",
       "       [0., 0., 3., 2., 1.],\n",
       "       [0., 0., 0., 3., 2.]])"
      ]
     },
     "metadata": {},
     "execution_count": 18
    }
   ],
   "source": [
    "# 4\n",
    "np.eye(5, 5) * 2 + np.eye(5, 5, -1) * 3 + np.eye(5, 5, 1)"
   ]
  },
  {
   "cell_type": "code",
   "execution_count": 23,
   "metadata": {},
   "outputs": [
    {
     "output_type": "execute_result",
     "data": {
      "text/plain": [
       "(9.555227113882172,\n",
       " array([28.68344748, 19.56573653, 38.87121906, 23.69727986, 22.57360459]),\n",
       " array([6.99424702, 5.07239822, 9.42228742, 9.52379474, 9.55522711]),\n",
       " array([3.96751351, 4.2398834 , 4.82440638, 4.92058111, 5.68810388,\n",
       "        3.03776922]),\n",
       " array([0.44946685, 1.17730157, 0.95968739, 1.3010046 , 1.08044703,\n",
       "        1.28424109]))"
      ]
     },
     "metadata": {},
     "execution_count": 23
    }
   ],
   "source": [
    "# 5\n",
    "m = np.random.uniform(0,10, 30).reshape(5, 6)\n",
    "m.max(), m.sum(axis = 1), m.max(axis = 1), m.mean(axis = 0), m.min(axis = 0)"
   ]
  },
  {
   "cell_type": "code",
   "execution_count": 44,
   "metadata": {},
   "outputs": [
    {
     "output_type": "execute_result",
     "data": {
      "text/plain": [
       "array([[  1,   4,   2,   3],\n",
       "       [ 46,  71,  99, 100],\n",
       "       [ 81, 100,  59,  90]])"
      ]
     },
     "metadata": {},
     "execution_count": 44
    }
   ],
   "source": [
    "# 6\n",
    "test = np.array([[1, 2, 3, 4], [46, 99, 100, 71], [81, 59, 90, 100]])\n",
    "test[:, test[1].argsort()]  # test[전체, 열을 1행기준으로 정렬]"
   ]
  },
  {
   "cell_type": "code",
   "execution_count": 13,
   "metadata": {},
   "outputs": [
    {
     "output_type": "execute_result",
     "data": {
      "text/plain": [
       "3.9714063519638345"
      ]
     },
     "metadata": {},
     "execution_count": 13
    }
   ],
   "source": [
    "# 7\n",
    "np.random.uniform(1, 7, 100).mean()"
   ]
  },
  {
   "cell_type": "code",
   "execution_count": 18,
   "metadata": {},
   "outputs": [
    {
     "output_type": "execute_result",
     "data": {
      "text/plain": [
       "array([10000., 10112., 10076.,  9907.,  9851.,  9794.,  9560.,  9698.,\n",
       "        9547.,  9752.,  9624.,  9532.,  9736.,  9702.,  9565.,  9571.,\n",
       "        9435.,  9358.,  9488.,  9384.,  9493.,  9472.,  9531.,  9558.,\n",
       "        9580.,  9637.,  9483.,  9630.,  9506.,  9483.,  9522.,  9591.,\n",
       "        9374.,  9488.,  9581.,  9715.,  9855., 10014., 10095., 10136.,\n",
       "       10294., 10346., 10294., 10371., 10266., 10024., 10060., 10017.,\n",
       "        9975.,  9872.,  9840.,  9916.,  9951.,  9855., 10033.,  9985.,\n",
       "        9800.,  9637.,  9524.,  9554.,  9652.,  9579.,  9678.,  9644.,\n",
       "        9589.,  9475.,  9478.,  9584.,  9588.,  9555.,  9709.,  9806.,\n",
       "        9930.,  9993.,  9940., 10087., 10016.,  9890.,  9666.,  9652.,\n",
       "        9629.,  9710.,  9739.,  9673.,  9710.,  9712.,  9777.,  9765.,\n",
       "        9737.,  9756.,  9784.,  9769.,  9826.,  9796.,  9870., 10007.,\n",
       "        9917.,  9946.,  9868., 10015., 10131., 10051., 10030.,  9936.,\n",
       "        9981.,  9841.,  9851.,  9949.,  9856.,  9780.,  9804.,  9888.,\n",
       "        9951., 10007.,  9937.,  9868.,  9823.,  9943., 10033., 10126.,\n",
       "       10071., 10089., 10168., 10225., 10184., 10276., 10272., 10290.,\n",
       "       10369., 10318., 10205., 10160., 10286., 10279., 10348., 10202.,\n",
       "       10262., 10253., 10156., 10133., 10241., 10195., 10215., 10007.,\n",
       "        9990.,  9907.,  9875.,  9800.,  9994., 10106., 10010.,  9835.,\n",
       "        9954.,  9931., 10006.,  9995.,  9801.,  9748.,  9712.,  9649.,\n",
       "        9562.,  9503.,  9481.,  9550.,  9820.,  9636.,  9570.,  9611.,\n",
       "        9425.,  9267.,  9229.,  9280.,  9232.,  9137.,  9184.,  9106.,\n",
       "        9010.,  9027.,  8974.,  8804.,  8884.,  8924.,  8874.,  8815.,\n",
       "        8790.,  8801.,  8882.,  8876.,  8864.,  8870.,  8941.,  8926.,\n",
       "        8926.,  8799.,  9008.,  9206.,  9246.,  9209.,  9157.,  9068.,\n",
       "        9176.,  9358.,  9321.,  9253.,  9163.,  9016.,  8868.,  8966.,\n",
       "        8920.,  8859.,  8759.,  8854.,  8789.,  8940.,  8883.,  8844.,\n",
       "        8845.,  8902.,  8860.,  8844.,  8762.,  8626.,  8488.,  8604.,\n",
       "        8539.,  8616.,  8602.,  8647.,  8609.,  8550.,  8608.,  8637.,\n",
       "        8618.,  8627.,  8678.,  8639.,  8636.,  8748.,  8658.,  8622.,\n",
       "        8552.,  8580.,  8634.,  8601.,  8616.,  8715.,  8721.,  8873.,\n",
       "        9009.,  9017.])"
      ]
     },
     "metadata": {},
     "execution_count": 18
    }
   ],
   "source": [
    "# 8\n",
    "stock = [10000]\n",
    "for _ in range(0, 250) :\n",
    "    stock.append(np.random.normal(0, 1) * 0.01 * stock[-1] + stock[-1]) # random.normal(기댓값/모평균, 표준편차, 갯수)\n",
    "np.around(stock)"
   ]
  }
 ]
}
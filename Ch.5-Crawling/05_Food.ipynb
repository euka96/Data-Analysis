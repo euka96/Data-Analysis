{
 "metadata": {
  "language_info": {
   "codemirror_mode": {
    "name": "ipython",
    "version": 3
   },
   "file_extension": ".py",
   "mimetype": "text/x-python",
   "name": "python",
   "nbconvert_exporter": "python",
   "pygments_lexer": "ipython3",
   "version": "3.8.8"
  },
  "orig_nbformat": 2,
  "kernelspec": {
   "name": "python388jvsc74a57bd094be3c0045a496f1db0f6c0933821dfb1f75d678fefa7c30ef8ba447fd697bda",
   "display_name": "Python 3.8.8 64-bit ('base': conda)"
  },
  "metadata": {
   "interpreter": {
    "hash": "94be3c0045a496f1db0f6c0933821dfb1f75d678fefa7c30ef8ba447fd697bda"
   }
  }
 },
 "nbformat": 4,
 "nbformat_minor": 2,
 "cells": [
  {
   "source": [
    "## 망고플레이트 크롤링"
   ],
   "cell_type": "markdown",
   "metadata": {}
  },
  {
   "cell_type": "code",
   "execution_count": 36,
   "metadata": {},
   "outputs": [],
   "source": [
    "import requests\n",
    "import pandas as pd\n",
    "import time\n",
    "from selenium import webdriver\n",
    "from selenium.webdriver.common.keys import Keys"
   ]
  },
  {
   "cell_type": "code",
   "execution_count": 40,
   "metadata": {},
   "outputs": [],
   "source": [
    "driver = webdriver.Chrome('/Users/Eugene/Desktop/chromedriver')\n",
    "driver.get('https://www.mangoplate.com/')\n",
    "time.sleep(0.5)"
   ]
  },
  {
   "cell_type": "code",
   "execution_count": null,
   "metadata": {},
   "outputs": [],
   "source": [
    "#  pop-up 창(iframe) 으로 이동해서 다시보지 않기 클릭\n",
    "driver.switch_to.frame('google_ads_iframe_/395211568/init/desktop_all_0')\n",
    "driver.find_element_by_css_selector('.ad_btn.ad_block_btn').click()"
   ]
  },
  {
   "cell_type": "code",
   "execution_count": 41,
   "metadata": {},
   "outputs": [],
   "source": [
    "search_box = driver.find_element_by_xpath('//*[@id=\"main-search\"]')\n",
    "search_box.send_keys('충정로역')\n",
    "search_box.send_keys(Keys.ENTER) \n",
    "time.sleep(1)\n"
   ]
  },
  {
   "cell_type": "code",
   "execution_count": 42,
   "metadata": {},
   "outputs": [],
   "source": [
    "n_list, i_list, a_list, t_list = [], [], [], []\n",
    "p = 1\n",
    "\n",
    "while True :\n",
    "    for i in range(0, 20) :\n",
    "        try :\n",
    "            name = driver.find_elements_by_css_selector('.info .title')[i].text\n",
    "            if name == '' :\n",
    "                break\n",
    "            else : \n",
    "                n_list.append(name)\n",
    "\n",
    "            info = driver.find_elements_by_css_selector('.info .etc')[i].text.split(' - ')[1]\n",
    "            i_list.append(info)\n",
    "\n",
    "            driver.find_elements_by_css_selector('.thumb')[i].click()\n",
    "            time.sleep(0)\n",
    "\n",
    "            addr = driver.find_element_by_xpath(\n",
    "                '/html/body/main/article/div[1]/div[1]/div/section[1]/table/tbody/tr[1]').text\n",
    "            addr = addr.split('\\n')[0].split('주소 ')[1]\n",
    "            a_list.append(addr)\n",
    "\n",
    "            tel = driver.find_element_by_xpath(\n",
    "                '/html/body/main/article/div[1]/div[1]/div/section[1]/table/tbody/tr[2]').text\n",
    "            tel = tel.split()\n",
    "            if tel[0] == '전화번호' :\n",
    "                t_list.append(tel[1])\n",
    "            else :\n",
    "                t_list.append('-')\n",
    "\n",
    "            driver.back()\n",
    "            time.sleep(0)\n",
    "        except :\n",
    "            print(p, i)\n",
    "            continue\n",
    "    try :\n",
    "        p += 1\n",
    "        driver.find_element_by_xpath(\n",
    "            f'/html/body/main/article/div[2]/div/div/section/div[4]/p/a[{p}]').click()\n",
    "        time.sleep(0)\n",
    "    except :\n",
    "        break\n",
    "driver.close()"
   ]
  },
  {
   "cell_type": "code",
   "execution_count": 43,
   "metadata": {},
   "outputs": [
    {
     "output_type": "execute_result",
     "data": {
      "text/plain": [
       "(90, 90, 90, 90)"
      ]
     },
     "metadata": {},
     "execution_count": 43
    }
   ],
   "source": [
    "len(n_list), len(i_list), len(a_list), len(t_list)"
   ]
  },
  {
   "cell_type": "code",
   "execution_count": 44,
   "metadata": {},
   "outputs": [
    {
     "output_type": "execute_result",
     "data": {
      "text/plain": [
       "           Name           Info                   Address           Tel\n",
       "0         위드미치코          기타 한식         서울특별시 서대문구 충정로 20   02-362-1394\n",
       "1           고릴라          고기 요리       서울특별시 서대문구 충정로 22-2   02-312-3541\n",
       "2         옐로우보울          기타 양식    서울특별시 서대문구 충정로 7 구세군빌딩  02-6364-4961\n",
       "3         철길떡볶이          기타 한식       서울특별시 서대문구 충정로 35-6   02-364-3440\n",
       "4           충정각           이탈리안     서울특별시 서대문구 충정로2길 8 1F   02-313-0424\n",
       "..          ...            ...                       ...           ...\n",
       "85          도우스          기타 양식    서울특별시 서대문구 충정로4길 16 1F   02-365-7407\n",
       "86  미친피자 (서대문점)          기타 양식  서울특별시 서대문구 서소문로 27 충정리시온   02-312-7571\n",
       "87        하얀꿈호프    치킨 / 호프 / 펍       서울특별시 서대문구 충정로4길 17   02-362-4990\n",
       "88       홍콩중화요리  정통 중식 / 일반 중식      서울특별시 서대문구 충정로 13 B1   02-312-8811\n",
       "89         볏꽃주택          일반 주점       서울특별시 서대문구 충정로4길 20             -\n",
       "\n",
       "[90 rows x 4 columns]"
      ],
      "text/html": "<div>\n<style scoped>\n    .dataframe tbody tr th:only-of-type {\n        vertical-align: middle;\n    }\n\n    .dataframe tbody tr th {\n        vertical-align: top;\n    }\n\n    .dataframe thead th {\n        text-align: right;\n    }\n</style>\n<table border=\"1\" class=\"dataframe\">\n  <thead>\n    <tr style=\"text-align: right;\">\n      <th></th>\n      <th>Name</th>\n      <th>Info</th>\n      <th>Address</th>\n      <th>Tel</th>\n    </tr>\n  </thead>\n  <tbody>\n    <tr>\n      <th>0</th>\n      <td>위드미치코</td>\n      <td>기타 한식</td>\n      <td>서울특별시 서대문구 충정로 20</td>\n      <td>02-362-1394</td>\n    </tr>\n    <tr>\n      <th>1</th>\n      <td>고릴라</td>\n      <td>고기 요리</td>\n      <td>서울특별시 서대문구 충정로 22-2</td>\n      <td>02-312-3541</td>\n    </tr>\n    <tr>\n      <th>2</th>\n      <td>옐로우보울</td>\n      <td>기타 양식</td>\n      <td>서울특별시 서대문구 충정로 7 구세군빌딩</td>\n      <td>02-6364-4961</td>\n    </tr>\n    <tr>\n      <th>3</th>\n      <td>철길떡볶이</td>\n      <td>기타 한식</td>\n      <td>서울특별시 서대문구 충정로 35-6</td>\n      <td>02-364-3440</td>\n    </tr>\n    <tr>\n      <th>4</th>\n      <td>충정각</td>\n      <td>이탈리안</td>\n      <td>서울특별시 서대문구 충정로2길 8 1F</td>\n      <td>02-313-0424</td>\n    </tr>\n    <tr>\n      <th>...</th>\n      <td>...</td>\n      <td>...</td>\n      <td>...</td>\n      <td>...</td>\n    </tr>\n    <tr>\n      <th>85</th>\n      <td>도우스</td>\n      <td>기타 양식</td>\n      <td>서울특별시 서대문구 충정로4길 16 1F</td>\n      <td>02-365-7407</td>\n    </tr>\n    <tr>\n      <th>86</th>\n      <td>미친피자 (서대문점)</td>\n      <td>기타 양식</td>\n      <td>서울특별시 서대문구 서소문로 27 충정리시온</td>\n      <td>02-312-7571</td>\n    </tr>\n    <tr>\n      <th>87</th>\n      <td>하얀꿈호프</td>\n      <td>치킨 / 호프 / 펍</td>\n      <td>서울특별시 서대문구 충정로4길 17</td>\n      <td>02-362-4990</td>\n    </tr>\n    <tr>\n      <th>88</th>\n      <td>홍콩중화요리</td>\n      <td>정통 중식 / 일반 중식</td>\n      <td>서울특별시 서대문구 충정로 13 B1</td>\n      <td>02-312-8811</td>\n    </tr>\n    <tr>\n      <th>89</th>\n      <td>볏꽃주택</td>\n      <td>일반 주점</td>\n      <td>서울특별시 서대문구 충정로4길 20</td>\n      <td>-</td>\n    </tr>\n  </tbody>\n</table>\n<p>90 rows × 4 columns</p>\n</div>"
     },
     "metadata": {},
     "execution_count": 44
    }
   ],
   "source": [
    "mango = pd.DataFrame({\n",
    "    'Name' : n_list,\n",
    "    'Info' : i_list,\n",
    "    'Address' : a_list,\n",
    "    'Tel' : t_list,\n",
    "})\n",
    "mango"
   ]
  },
  {
   "cell_type": "code",
   "execution_count": 45,
   "metadata": {},
   "outputs": [],
   "source": [
    "mango.to_csv('mangoplate.csv', index = False, sep = ',')"
   ]
  }
 ]
}
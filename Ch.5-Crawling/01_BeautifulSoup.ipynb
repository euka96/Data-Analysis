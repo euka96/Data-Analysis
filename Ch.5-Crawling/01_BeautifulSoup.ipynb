{
 "metadata": {
  "language_info": {
   "codemirror_mode": {
    "name": "ipython",
    "version": 3
   },
   "file_extension": ".py",
   "mimetype": "text/x-python",
   "name": "python",
   "nbconvert_exporter": "python",
   "pygments_lexer": "ipython3",
   "version": "3.8.8"
  },
  "orig_nbformat": 2,
  "kernelspec": {
   "name": "python388jvsc74a57bd094be3c0045a496f1db0f6c0933821dfb1f75d678fefa7c30ef8ba447fd697bda",
   "display_name": "Python 3.8.8 64-bit ('base': conda)"
  },
  "metadata": {
   "interpreter": {
    "hash": "94be3c0045a496f1db0f6c0933821dfb1f75d678fefa7c30ef8ba447fd697bda"
   }
  }
 },
 "nbformat": 4,
 "nbformat_minor": 2,
 "cells": [
  {
   "source": [
    "## Melon 주간 차트 크롤링"
   ],
   "cell_type": "markdown",
   "metadata": {}
  },
  {
   "cell_type": "code",
   "execution_count": 47,
   "metadata": {},
   "outputs": [],
   "source": [
    "import requests\n",
    "import pandas as pd\n",
    "from bs4 import BeautifulSoup"
   ]
  },
  {
   "cell_type": "code",
   "execution_count": 13,
   "metadata": {},
   "outputs": [],
   "source": [
    "url = 'https://www.melon.com/chart/week/index.htm'\n",
    "header = {'User-Agent' : \"Mozilla/5.0 (Macintosh; Intel Mac OS X 10_15_7) AppleWebKit/537.36 (KHTML, like Gecko) Chrome/91.0.4472.77 Safari/537.36\"}    # header에 uUser-Agent 값을 주어야 가져올 수 있음\n",
    "req = requests.get(url, headers = header)\n",
    "html = req.text"
   ]
  },
  {
   "cell_type": "code",
   "execution_count": null,
   "metadata": {},
   "outputs": [],
   "source": [
    "# selector - #lst50 > td:nth-child(6) > div > div > div.ellipsis.rank02 > a\n",
    "# Xpath - //*[@id=\"lst50\"]/td[6]/div/div/div[2]/a"
   ]
  },
  {
   "cell_type": "code",
   "execution_count": 16,
   "metadata": {},
   "outputs": [],
   "source": [
    "soup = BeautifulSoup(html, 'html.parser')"
   ]
  },
  {
   "cell_type": "code",
   "execution_count": 57,
   "metadata": {},
   "outputs": [],
   "source": [
    "trs = soup.select('#lst50')\n",
    "tr = trs[0]"
   ]
  },
  {
   "cell_type": "code",
   "execution_count": 28,
   "metadata": {},
   "outputs": [
    {
     "output_type": "execute_result",
     "data": {
      "text/plain": [
       "1"
      ]
     },
     "metadata": {},
     "execution_count": 28
    }
   ],
   "source": [
    "rank = int(tr.select_one('.rank').string)   # .string or .get_test()\n",
    "rank"
   ]
  },
  {
   "cell_type": "code",
   "execution_count": 41,
   "metadata": {},
   "outputs": [
    {
     "output_type": "execute_result",
     "data": {
      "text/plain": [
       "'Butter'"
      ]
     },
     "metadata": {},
     "execution_count": 41
    }
   ],
   "source": [
    "title = tr.select_one('.ellipsis.rank01')\n",
    "title = title.find('a').string\n",
    "title"
   ]
  },
  {
   "cell_type": "code",
   "execution_count": 39,
   "metadata": {},
   "outputs": [
    {
     "output_type": "execute_result",
     "data": {
      "text/plain": [
       "'방탄소년단'"
      ]
     },
     "metadata": {},
     "execution_count": 39
    }
   ],
   "source": [
    "artist = tr.select_one('.ellipsis.rank02')\n",
    "artist = artist.find('a').get_text()\n",
    "artist"
   ]
  },
  {
   "cell_type": "code",
   "execution_count": 40,
   "metadata": {},
   "outputs": [
    {
     "output_type": "execute_result",
     "data": {
      "text/plain": [
       "'Butter'"
      ]
     },
     "metadata": {},
     "execution_count": 40
    }
   ],
   "source": [
    "album = tr.select_one('.ellipsis.rank03')\n",
    "album = album.find('a').get_text()\n",
    "album"
   ]
  },
  {
   "cell_type": "code",
   "execution_count": null,
   "metadata": {},
   "outputs": [],
   "source": [
    "# Top 50 Dataframe"
   ]
  },
  {
   "cell_type": "code",
   "execution_count": 58,
   "metadata": {},
   "outputs": [],
   "source": [
    "r_list, t_list, ar_list, al_list = [], [], [], []\n",
    "for tr in trs :\n",
    "    rank = int(tr.select_one('.rank').string)\n",
    "    r_list.append(rank)\n",
    "    \n",
    "    title = tr.select_one('.ellipsis.rank01')\n",
    "    title = title.find('a').string\n",
    "    t_list.append(title)\n",
    "    \n",
    "    artist = tr.select_one('.ellipsis.rank02')\n",
    "    artist = artist.find('a').get_text()\n",
    "    ar_list.append(artist)\n",
    "    \n",
    "    album = tr.select_one('.ellipsis.rank03')\n",
    "    album = album.find('a').get_text()\n",
    "    al_list.append(album)"
   ]
  },
  {
   "cell_type": "code",
   "execution_count": 49,
   "metadata": {},
   "outputs": [
    {
     "output_type": "execute_result",
     "data": {
      "text/plain": [
       "   Rank                                   Title             Artist  \\\n",
       "0     1                                  Butter              방탄소년단   \n",
       "1     2                           Dun Dun Dance  오마이걸 (OH MY GIRL)   \n",
       "2     3  Peaches (Feat. Daniel Caesar & Giveon)      Justin Bieber   \n",
       "3     4                                   헤픈 우연        헤이즈 (Heize)   \n",
       "4     5                            롤린 (Rollin')             브레이브걸스   \n",
       "\n",
       "           Album  \n",
       "0         Butter  \n",
       "1  Dear OHMYGIRL  \n",
       "2        Justice  \n",
       "3         HAPPEN  \n",
       "4        Rollin'  "
      ],
      "text/html": "<div>\n<style scoped>\n    .dataframe tbody tr th:only-of-type {\n        vertical-align: middle;\n    }\n\n    .dataframe tbody tr th {\n        vertical-align: top;\n    }\n\n    .dataframe thead th {\n        text-align: right;\n    }\n</style>\n<table border=\"1\" class=\"dataframe\">\n  <thead>\n    <tr style=\"text-align: right;\">\n      <th></th>\n      <th>Rank</th>\n      <th>Title</th>\n      <th>Artist</th>\n      <th>Album</th>\n    </tr>\n  </thead>\n  <tbody>\n    <tr>\n      <th>0</th>\n      <td>1</td>\n      <td>Butter</td>\n      <td>방탄소년단</td>\n      <td>Butter</td>\n    </tr>\n    <tr>\n      <th>1</th>\n      <td>2</td>\n      <td>Dun Dun Dance</td>\n      <td>오마이걸 (OH MY GIRL)</td>\n      <td>Dear OHMYGIRL</td>\n    </tr>\n    <tr>\n      <th>2</th>\n      <td>3</td>\n      <td>Peaches (Feat. Daniel Caesar &amp; Giveon)</td>\n      <td>Justin Bieber</td>\n      <td>Justice</td>\n    </tr>\n    <tr>\n      <th>3</th>\n      <td>4</td>\n      <td>헤픈 우연</td>\n      <td>헤이즈 (Heize)</td>\n      <td>HAPPEN</td>\n    </tr>\n    <tr>\n      <th>4</th>\n      <td>5</td>\n      <td>롤린 (Rollin')</td>\n      <td>브레이브걸스</td>\n      <td>Rollin'</td>\n    </tr>\n  </tbody>\n</table>\n</div>"
     },
     "metadata": {},
     "execution_count": 49
    }
   ],
   "source": [
    "df = pd.DataFrame({\n",
    "    'Rank' : r_list,\n",
    "    'Title' : t_list,\n",
    "    'Artist' : ar_list,\n",
    "    'Album' : al_list\n",
    "})\n",
    "df.head()"
   ]
  },
  {
   "source": [
    "- 이미지 속성값 가져오기"
   ],
   "cell_type": "markdown",
   "metadata": {}
  },
  {
   "cell_type": "code",
   "execution_count": 53,
   "metadata": {},
   "outputs": [
    {
     "output_type": "execute_result",
     "data": {
      "text/plain": [
       "'https://cdnimg.melon.co.kr/cm2/album/images/106/12/483/10612483_20210521111412_500.jpg/melon/resize/120/quality/80/optimize'"
      ]
     },
     "metadata": {},
     "execution_count": 53
    }
   ],
   "source": [
    "image = trs[0].select_one('.image_typeAll').find('img')\n",
    "image = image['src']\n",
    "image"
   ]
  },
  {
   "cell_type": "code",
   "execution_count": 70,
   "metadata": {},
   "outputs": [],
   "source": [
    "# Top 100 DataFrame\n",
    "trs = soup.select('#lst50')\n",
    "trs2 = soup.select('#lst100')\n",
    "trs.extend(trs2)\n",
    "\n",
    "r_list, t_list, ar_list, al_list, i_list = [], [], [], [], []\n",
    "\n",
    "for tr in trs :\n",
    "    rank = int(tr.select_one('.rank').string)\n",
    "    r_list.append(rank)\n",
    "    \n",
    "    title = tr.select_one('.ellipsis.rank01')\n",
    "    title = title.find('a').string\n",
    "    t_list.append(title)\n",
    "    \n",
    "    artist = tr.select_one('.ellipsis.rank02')\n",
    "    artist = artist.find('a').get_text()\n",
    "    ar_list.append(artist)\n",
    "    \n",
    "    album = tr.select_one('.ellipsis.rank03')\n",
    "    album = album.find('a').get_text()\n",
    "    al_list.append(album)\n",
    "\n",
    "    image = trs[0].select_one('.image_typeAll').find('img')\n",
    "    image = image['src']\n",
    "    i_list.append(image)"
   ]
  },
  {
   "cell_type": "code",
   "execution_count": 71,
   "metadata": {},
   "outputs": [
    {
     "output_type": "execute_result",
     "data": {
      "text/plain": [
       "    Rank                                   Title             Artist  \\\n",
       "0      1                                  Butter              방탄소년단   \n",
       "1      2                           Dun Dun Dance  오마이걸 (OH MY GIRL)   \n",
       "2      3  Peaches (Feat. Daniel Caesar & Giveon)      Justin Bieber   \n",
       "3      4                                   헤픈 우연        헤이즈 (Heize)   \n",
       "4      5                            롤린 (Rollin')             브레이브걸스   \n",
       "..   ...                                     ...                ...   \n",
       "95    96                               혼술하고 싶은 밤                  벤   \n",
       "96    97                                     죄와벌             SG 워너비   \n",
       "97    98                                     되풀이                임창정   \n",
       "98    99                      고래 (Dive Into You)          NCT DREAM   \n",
       "99   100                       돌림노래 (Feat. DEAN)                아이유   \n",
       "\n",
       "                            Album  \\\n",
       "0                          Butter   \n",
       "1                   Dear OHMYGIRL   \n",
       "2                         Justice   \n",
       "3                          HAPPEN   \n",
       "4                         Rollin'   \n",
       "..                            ...   \n",
       "95                      혼술하고 싶은 밤   \n",
       "96                            살다가   \n",
       "97              펜트하우스2 OST Part.1   \n",
       "98  맛 (Hot Sauce) - The 1st Album   \n",
       "99           IU 5th Album 'LILAC'   \n",
       "\n",
       "                                          Album cover  \n",
       "0   https://cdnimg.melon.co.kr/cm2/album/images/10...  \n",
       "1   https://cdnimg.melon.co.kr/cm2/album/images/10...  \n",
       "2   https://cdnimg.melon.co.kr/cm2/album/images/10...  \n",
       "3   https://cdnimg.melon.co.kr/cm2/album/images/10...  \n",
       "4   https://cdnimg.melon.co.kr/cm2/album/images/10...  \n",
       "..                                                ...  \n",
       "95  https://cdnimg.melon.co.kr/cm2/album/images/10...  \n",
       "96  https://cdnimg.melon.co.kr/cm2/album/images/10...  \n",
       "97  https://cdnimg.melon.co.kr/cm2/album/images/10...  \n",
       "98  https://cdnimg.melon.co.kr/cm2/album/images/10...  \n",
       "99  https://cdnimg.melon.co.kr/cm2/album/images/10...  \n",
       "\n",
       "[100 rows x 5 columns]"
      ],
      "text/html": "<div>\n<style scoped>\n    .dataframe tbody tr th:only-of-type {\n        vertical-align: middle;\n    }\n\n    .dataframe tbody tr th {\n        vertical-align: top;\n    }\n\n    .dataframe thead th {\n        text-align: right;\n    }\n</style>\n<table border=\"1\" class=\"dataframe\">\n  <thead>\n    <tr style=\"text-align: right;\">\n      <th></th>\n      <th>Rank</th>\n      <th>Title</th>\n      <th>Artist</th>\n      <th>Album</th>\n      <th>Album cover</th>\n    </tr>\n  </thead>\n  <tbody>\n    <tr>\n      <th>0</th>\n      <td>1</td>\n      <td>Butter</td>\n      <td>방탄소년단</td>\n      <td>Butter</td>\n      <td>https://cdnimg.melon.co.kr/cm2/album/images/10...</td>\n    </tr>\n    <tr>\n      <th>1</th>\n      <td>2</td>\n      <td>Dun Dun Dance</td>\n      <td>오마이걸 (OH MY GIRL)</td>\n      <td>Dear OHMYGIRL</td>\n      <td>https://cdnimg.melon.co.kr/cm2/album/images/10...</td>\n    </tr>\n    <tr>\n      <th>2</th>\n      <td>3</td>\n      <td>Peaches (Feat. Daniel Caesar &amp; Giveon)</td>\n      <td>Justin Bieber</td>\n      <td>Justice</td>\n      <td>https://cdnimg.melon.co.kr/cm2/album/images/10...</td>\n    </tr>\n    <tr>\n      <th>3</th>\n      <td>4</td>\n      <td>헤픈 우연</td>\n      <td>헤이즈 (Heize)</td>\n      <td>HAPPEN</td>\n      <td>https://cdnimg.melon.co.kr/cm2/album/images/10...</td>\n    </tr>\n    <tr>\n      <th>4</th>\n      <td>5</td>\n      <td>롤린 (Rollin')</td>\n      <td>브레이브걸스</td>\n      <td>Rollin'</td>\n      <td>https://cdnimg.melon.co.kr/cm2/album/images/10...</td>\n    </tr>\n    <tr>\n      <th>...</th>\n      <td>...</td>\n      <td>...</td>\n      <td>...</td>\n      <td>...</td>\n      <td>...</td>\n    </tr>\n    <tr>\n      <th>95</th>\n      <td>96</td>\n      <td>혼술하고 싶은 밤</td>\n      <td>벤</td>\n      <td>혼술하고 싶은 밤</td>\n      <td>https://cdnimg.melon.co.kr/cm2/album/images/10...</td>\n    </tr>\n    <tr>\n      <th>96</th>\n      <td>97</td>\n      <td>죄와벌</td>\n      <td>SG 워너비</td>\n      <td>살다가</td>\n      <td>https://cdnimg.melon.co.kr/cm2/album/images/10...</td>\n    </tr>\n    <tr>\n      <th>97</th>\n      <td>98</td>\n      <td>되풀이</td>\n      <td>임창정</td>\n      <td>펜트하우스2 OST Part.1</td>\n      <td>https://cdnimg.melon.co.kr/cm2/album/images/10...</td>\n    </tr>\n    <tr>\n      <th>98</th>\n      <td>99</td>\n      <td>고래 (Dive Into You)</td>\n      <td>NCT DREAM</td>\n      <td>맛 (Hot Sauce) - The 1st Album</td>\n      <td>https://cdnimg.melon.co.kr/cm2/album/images/10...</td>\n    </tr>\n    <tr>\n      <th>99</th>\n      <td>100</td>\n      <td>돌림노래 (Feat. DEAN)</td>\n      <td>아이유</td>\n      <td>IU 5th Album 'LILAC'</td>\n      <td>https://cdnimg.melon.co.kr/cm2/album/images/10...</td>\n    </tr>\n  </tbody>\n</table>\n<p>100 rows × 5 columns</p>\n</div>"
     },
     "metadata": {},
     "execution_count": 71
    }
   ],
   "source": [
    "df = pd.DataFrame({\n",
    "    'Rank' : r_list,\n",
    "    'Title' : t_list,\n",
    "    'Artist' : ar_list,\n",
    "    'Album' : al_list,\n",
    "    'Album cover' : i_list\n",
    "})\n",
    "df"
   ]
  },
  {
   "cell_type": "code",
   "execution_count": 76,
   "metadata": {},
   "outputs": [
    {
     "output_type": "execute_result",
     "data": {
      "text/plain": [
       "'2021.05.24 ~ 2021.05.30'"
      ]
     },
     "metadata": {},
     "execution_count": 76
    }
   ],
   "source": [
    "period = soup.select_one('.yyyymmdd').get_text().strip()\n",
    "period"
   ]
  },
  {
   "cell_type": "code",
   "execution_count": 77,
   "metadata": {},
   "outputs": [],
   "source": [
    "filename = f'Melon_Top_100({period}).csv'\n",
    "df.to_csv(filename, index = False, sep = ',')"
   ]
  }
 ]
}